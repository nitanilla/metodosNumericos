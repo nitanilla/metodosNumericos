{
  "nbformat": 4,
  "nbformat_minor": 0,
  "metadata": {
    "colab": {
      "name": "trabajo_de_metodos_numericos.ipynb",
      "provenance": [],
      "include_colab_link": true
    },
    "kernelspec": {
      "name": "python3",
      "display_name": "Python 3"
    }
  },
  "cells": [
    {
      "cell_type": "markdown",
      "metadata": {
        "id": "view-in-github",
        "colab_type": "text"
      },
      "source": [
        "<a href=\"https://colab.research.google.com/github/nitanilla/metodosNumericos/blob/main/trabajo_de_metodos_numericos.ipynb\" target=\"_parent\"><img src=\"https://colab.research.google.com/assets/colab-badge.svg\" alt=\"Open In Colab\"/></a>"
      ]
    },
    {
      "cell_type": "markdown",
      "metadata": {
        "id": "OC-o_H-VgyuY"
      },
      "source": [
        "TRABAJO DE BISECCION DE METODOS NUMERICOS\n",
        "\n",
        "---\n",
        "\n"
      ]
    },
    {
      "cell_type": "markdown",
      "metadata": {
        "id": "GX2MU9XGg981"
      },
      "source": [
        "TRABAJO GRUPAL:\n",
        "\n",
        "Tacusi Larota Jhon Edwin---------------------------150408"
      ]
    },
    {
      "cell_type": "markdown",
      "metadata": {
        "id": "Tm8zP9PkdJ6c"
      },
      "source": [
        "En primer lugar definimos la función según corresponde el ejercicio para luego mostrar su grafica y tomar nuestros limites , en seguida se efectura la tabulacion en el modulo implementado. finalmente se realiza el metodo de la biseccion para los limites definidos anteriormente, el codigo culminara cuando el producto de una iteración \"K\" se igual a la iteración \"K-1\". y como resultado se mostrara la raiz de dicah funcion.\n"
      ]
    },
    {
      "cell_type": "markdown",
      "metadata": {
        "id": "k7TX3qrldXQy"
      },
      "source": [
        " **ventajas del metodo de la biseccion**\n",
        "\n",
        "\n",
        "---\n",
        "\n",
        "\n"
      ]
    },
    {
      "cell_type": "markdown",
      "metadata": {
        "id": "lSEktjHndpE2"
      },
      "source": [
        "*Siempre resulta convergente.\n",
        "\n",
        "*Resulta óptimo para dar respuesta a una ecuación del tipo f (x) = 0 cuando desconocemos totalmente f, salvo el cálculo de su signo.\n",
        "\n",
        "*Necesita que f sea de carácter continuo en el intervalo previsto.\n",
        "\n",
        "*Permite establecer cierto límite de error.\n",
        "\n",
        "*Es bastante sencillo de implementar.\n",
        "\n",
        "*Es fácil de aprender y permite dar respuesta a ecuaciones matemáticas simples\n",
        "\n",
        "\n",
        "\n"
      ]
    },
    {
      "cell_type": "code",
      "metadata": {
        "id": "c7wj99Smd0JG",
        "outputId": "2ca87069-65c0-43ef-94a7-f18a6957837d",
        "colab": {
          "base_uri": "https://localhost:8080/",
          "height": 599
        }
      },
      "source": [
        "\n",
        "import numpy as np\n",
        "import matplotlib.pyplot as plt\n",
        "   #MÉTODOS NUMÉRICOS\n",
        "def Funcion(C):\n",
        "    Exponente=-0.146843*C\n",
        "    E=1-(2.71828**(Exponente))\n",
        "    Num=667.38*E\n",
        "    Fr=(Num/C)-40\n",
        "    Aprox=round(Fr,6)\n",
        "    return(Aprox)\n",
        "def FuncionB(C):\n",
        "    X3=C**3\n",
        "    X2=4*(C**2)\n",
        "    Y=round((X3+X2-10),6)\n",
        "    return(Y)\n",
        "def FuncionC(C):\n",
        "    X3=C**3\n",
        "    X2=2*(C**2)\n",
        "    Y=round((X3+X2-C),6)\n",
        "    return(Y)\n",
        "#IMPORTANTE: Cambiar función aquí\n",
        "def Producto(A,B,opcion):\n",
        "  \n",
        "  if opcion==1:\n",
        "    fA=Funcion(A)\n",
        "    fB=Funcion(B)\n",
        "    Pr=round((fA*fB),6)\n",
        "    return Pr\n",
        "  elif opcion==2:\n",
        "    fA=FuncionB(A)\n",
        "    fB=FuncionB(B)\n",
        "    Pr=round((fA*fB),6)\n",
        "    \n",
        "    return Pr\n",
        "  elif opcion==3:\n",
        "    fA=FuncionC(A)\n",
        "    fB=FuncionC(B)\n",
        "    Pr=round((fA*fB),6)\n",
        "    \n",
        "    \n",
        "    return Pr\n",
        "\n",
        "opcion=int(input(\"eliga numero funcion de acuerdo al numero de ejemplos trabajados en clase :\"))\n",
        "if opcion==2:\n",
        "   fx=lambda x :x**3 +4*(x**2)-10\n",
        "   x=np.linspace(-3,3,7)\n",
        "   aa=fx(x)\n",
        "   plt.plot(x,aa,color=\"red\")\n",
        "   plt.show()\n",
        "elif opcion==3:\n",
        "   \n",
        "   fx=lambda x :x**3 +2*(x**2)-x\n",
        "   x=np.linspace(-3,3,7)\n",
        "   aa=fx(x)\n",
        "   plt.plot(x,aa,color=\"red\")\n",
        "   plt.show()\n",
        "elif opcion==1:\n",
        "   \n",
        "   fx=lambda x :(667.38*(1-(2.71828**(-0.146843*x)))/x)-40\n",
        "   x=np.linspace(0,20,10)\n",
        "   aa=fx(x)\n",
        "   plt.plot(x,aa,color=\"red\")\n",
        "   plt.show()\n",
        "Xl=float(input(\"Límite inferior :\"))\n",
        "Xu=float(input(\"Límite superior :\"))\n",
        "if(Xl>=Xu):\n",
        "    print(\"ERROR al introcucir los datos, Xl<Xu\")\n",
        "else:\n",
        "    K=1\n",
        "    AUX=0\n",
        "    Xf=(Xl+Xu)/2\n",
        "    Pr=Producto(Xl,Xf,opcion)\n",
        "    print(\"N°\".ljust(3,' '),\"Xl\".ljust(15,' '),\"Xu\".ljust(15,' '),\"Xf\".ljust(15,' '),\"Pr\")\n",
        "    while((Pr!=0)and(AUX!=Pr)):\n",
        "        print(str(K).ljust(3,' '),str(Xl).ljust(15,' '),str(Xu).ljust(15,' '),str(Xf).ljust(15,' '),Pr)        \n",
        "        if(Pr<0):\n",
        "            if((Xl==Xu)or(Xl==Xf)):\n",
        "                AUX=Pr\n",
        "            Xu=Xf\n",
        "        else:\n",
        "            if((Xl==Xu)or(Xu==Xf)):\n",
        "                AUX=Pr\n",
        "            Xl=Xf\n",
        "        K=K+1\n",
        "        Xf=round(((Xl+Xu)/2),6)\n",
        "        Pr=Producto(Xl,Xf,opcion)\n",
        "      \n",
        "print(\"la raiz es :\",Xf)\n"
      ],
      "execution_count": 2,
      "outputs": [
        {
          "output_type": "stream",
          "text": [
            "eliga numero funcion de acuerdo al numero de ejemplos trabajados en clase :2\n"
          ],
          "name": "stdout"
        },
        {
          "output_type": "display_data",
          "data": {
            "image/png": "[encoded data removed]",
            "text/plain": [
              "<Figure size 432x288 with 1 Axes>"
            ]
          },
          "metadata": {
            "tags": [],
            "needs_background": "light"
          }
        },
        {
          "output_type": "stream",
          "text": [
            "Límite inferior :1\n",
            "Límite superior :2\n",
            "N°  Xl              Xu              Xf              Pr\n",
            "1   1.0             2.0             1.5             -11.875\n",
            "2   1.0             1.5             1.25            8.984375\n",
            "3   1.25            1.5             1.375           -0.29129\n",
            "4   1.25            1.375           1.3125          1.524449\n",
            "5   1.3125          1.375           1.34375         0.29777\n",
            "6   1.34375         1.375           1.359375        0.033838\n",
            "7   1.359375        1.375           1.367188        -0.00312\n",
            "8   1.359375        1.367188        1.363282        0.003098\n",
            "9   1.363282        1.367188        1.365235        -3e-06\n",
            "10  1.363282        1.365235        1.364259        0.000515\n",
            "11  1.364259        1.365235        1.364747        0.000128\n",
            "12  1.364747        1.365235        1.364991        3.1e-05\n",
            "13  1.364991        1.365235        1.365113        8e-06\n",
            "14  1.365113        1.365235        1.365174        2e-06\n",
            "la raiz es : 1.365204\n"
          ],
          "name": "stdout"
        }
      ]
    },
    {
      "cell_type": "markdown",
      "metadata": {
        "id": "AQMiGvaod_WW"
      },
      "source": [
        "Otro codigo par hallar la raiz  introduciendo:\n",
        "\n",
        " **el grado de la ecuacion a hallar introducir \n",
        " \n",
        " **los intervalos inferior y superior\n",
        " \n",
        " **las constantes de la ecuacion."
      ]
    },
    {
      "cell_type": "code",
      "metadata": {
        "id": "RyTVOjs2eY5U",
        "outputId": "8c69cb5d-c058-447b-b712-95e4cbc71c51",
        "colab": {
          "base_uri": "https://localhost:8080/",
          "height": 835
        }
      },
      "source": [
        "\n",
        "import os       \n",
        "import math\n",
        "#---------------------------------------------------------------\n",
        "# Funcion que muestra el titulo del programa\n",
        "#---------------------------------------------------------------\n",
        "def titulo():\n",
        "    os.system(\"CLS\")\n",
        "    print (\"Metodo de biseccion\\n\")\n",
        "#---------------------------------------------------------------\n",
        "# Funcion que evalua f(x) con el metodo de Horner\n",
        "#---------------------------------------------------------------\n",
        "def f(coeficientes, grado, valor):\n",
        "    resultado = coeficientes[0]\n",
        "    i = 1\n",
        "    while(i <= grado):\n",
        "        resultado = (resultado * valor) + coeficientes[i]\n",
        "        i += 1\n",
        "    return resultado\n",
        "#---------------------------------------------------------------\n",
        "# FUNCION QUE CALCULA Mx\n",
        "#---------------------------------------------------------------\n",
        "def Mx(a, b):\n",
        "    return (a + b) / 2\n",
        "#---------------------------------------------------------------\n",
        "# METODO DE BISECCION\n",
        "#---------------------------------------------------------------\n",
        "def biseccion(coeficientes, grado, iInicial, iFinal):\n",
        "    a = iInicial\n",
        "    b = iFinal\n",
        "    nIteraciones = math.ceil((math.log(b - a) - math.log(0.00001)) / math.log(2))\n",
        "    titulo()\n",
        "    print (\"{0}\\t{1}\\t{2}\\t{3}\\t{4}\".format('n', 'a', 'b', 'Mx', 'f(Mx)f(a)'))\n",
        "    i = 1\n",
        "    while(i <= nIteraciones):\n",
        "        x = Mx(a, b)\n",
        "        Fx = f(coeficientes, grado, x)\n",
        "        Fa = f(coeficientes, grado, a)\n",
        "        condicion = Fx * Fa\n",
        "        print (i, \"\\t{:.4}\\t{:.4}\\t{:.4}\\t{:.4}\".format(a, b, x, condicion))\n",
        "        if(condicion > 0):\n",
        "            a = x\n",
        "        elif(condicion < 0):\n",
        "            b = x\n",
        "        else:\n",
        "            x = x\n",
        "        i += 1\n",
        "    print (\"\\nLa raiz encontrada es: {0}\\n\".format(x))\n",
        "#---------------------------------------------------------------\n",
        "#Programa principal\n",
        "#---------------------------------------------------------------\n",
        "consulta = '1'\n",
        "while(consulta != '0'):\n",
        "    os.system(\"COLOR F0\")\n",
        "    titulo()\n",
        "    grado = int(input(\"Grado de ecuacion: \"))   \n",
        "    print  ()                                                \n",
        "    iInicial = float(input(\"Intervalo inicial: \"))      \n",
        "    iFinal = float(input(\"Intervalo final: \"))         \n",
        "    titulo()\n",
        "    coeficientes = []       \n",
        "    i = grado\n",
        "    while(i >= 0):                                              \n",
        "        cof = float(input(\"Ingresa x^{0}: \".format(i)))     \n",
        "        coeficientes.append(cof)                                \n",
        "        i -= 1                                                   \n",
        "    biseccion(coeficientes, grado, iInicial, iFinal)\n",
        "    print()\n",
        "    print(consulta = int(input(\"Para salir presiona espacio, sino otra tecla: \")))"
      ],
      "execution_count": 3,
      "outputs": [
        {
          "output_type": "stream",
          "text": [
            "Metodo de biseccion\n",
            "\n",
            "Grado de ecuacion: 2\n",
            "\n",
            "Intervalo inicial: 1\n",
            "Intervalo final: 2\n",
            "Metodo de biseccion\n",
            "\n",
            "Ingresa x^2: 4\n",
            "Ingresa x^1: 10\n",
            "Ingresa x^0: 8\n",
            "Metodo de biseccion\n",
            "\n",
            "n\ta\tb\tMx\tf(Mx)f(a)\n",
            "1 \t1.0\t2.0\t1.5\t704.0\n",
            "2 \t1.5\t2.0\t1.75\t1.208e+03\n",
            "3 \t1.75\t2.0\t1.875\t1.541e+03\n",
            "4 \t1.875\t2.0\t1.938\t1.73e+03\n",
            "5 \t1.938\t2.0\t1.969\t1.831e+03\n",
            "6 \t1.969\t2.0\t1.984\t1.883e+03\n",
            "7 \t1.984\t2.0\t1.992\t1.909e+03\n",
            "8 \t1.992\t2.0\t1.996\t1.923e+03\n",
            "9 \t1.996\t2.0\t1.998\t1.929e+03\n",
            "10 \t1.998\t2.0\t1.999\t1.933e+03\n",
            "11 \t1.999\t2.0\t2.0\t1.934e+03\n",
            "12 \t2.0\t2.0\t2.0\t1.935e+03\n",
            "13 \t2.0\t2.0\t2.0\t1.936e+03\n",
            "14 \t2.0\t2.0\t2.0\t1.936e+03\n",
            "15 \t2.0\t2.0\t2.0\t1.936e+03\n",
            "16 \t2.0\t2.0\t2.0\t1.936e+03\n",
            "17 \t2.0\t2.0\t2.0\t1.936e+03\n",
            "\n",
            "La raiz encontrada es: 1.9999923706054688\n",
            "\n",
            "\n",
            "Para salir presiona espacio, sino otra tecla:  \n"
          ],
          "name": "stdout"
        },
        {
          "output_type": "error",
          "ename": "ValueError",
          "evalue": "ignored",
          "traceback": [
            "\u001b[0;31m---------------------------------------------------------------------------\u001b[0m",
            "\u001b[0;31mValueError\u001b[0m                                Traceback (most recent call last)",
            "\u001b[0;32m<ipython-input-3-770603c61a8e>\u001b[0m in \u001b[0;36m<module>\u001b[0;34m()\u001b[0m\n\u001b[1;32m     67\u001b[0m     \u001b[0mbiseccion\u001b[0m\u001b[0;34m(\u001b[0m\u001b[0mcoeficientes\u001b[0m\u001b[0;34m,\u001b[0m \u001b[0mgrado\u001b[0m\u001b[0;34m,\u001b[0m \u001b[0miInicial\u001b[0m\u001b[0;34m,\u001b[0m \u001b[0miFinal\u001b[0m\u001b[0;34m)\u001b[0m\u001b[0;34m\u001b[0m\u001b[0;34m\u001b[0m\u001b[0m\n\u001b[1;32m     68\u001b[0m     \u001b[0mprint\u001b[0m\u001b[0;34m(\u001b[0m\u001b[0;34m)\u001b[0m\u001b[0;34m\u001b[0m\u001b[0;34m\u001b[0m\u001b[0m\n\u001b[0;32m---> 69\u001b[0;31m     \u001b[0mprint\u001b[0m\u001b[0;34m(\u001b[0m\u001b[0mconsulta\u001b[0m \u001b[0;34m=\u001b[0m \u001b[0mint\u001b[0m\u001b[0;34m(\u001b[0m\u001b[0minput\u001b[0m\u001b[0;34m(\u001b[0m\u001b[0;34m\"Para salir presiona espacio, sino otra tecla: \"\u001b[0m\u001b[0;34m)\u001b[0m\u001b[0;34m)\u001b[0m\u001b[0;34m)\u001b[0m\u001b[0;34m\u001b[0m\u001b[0;34m\u001b[0m\u001b[0m\n\u001b[0m",
            "\u001b[0;31mValueError\u001b[0m: invalid literal for int() with base 10: ' '"
          ]
        }
      ]
    }
  ]
}