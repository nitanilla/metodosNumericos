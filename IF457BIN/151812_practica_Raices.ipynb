{
  "nbformat": 4,
  "nbformat_minor": 0,
  "metadata": {
    "colab": {
      "name": "practica  Racices.ipynb",
      "provenance": [],
      "collapsed_sections": [],
      "include_colab_link": true
    },
    "kernelspec": {
      "name": "python3",
      "display_name": "Python 3"
    }
  },
  "cells": [
    {
      "cell_type": "markdown",
      "metadata": {
        "id": "view-in-github",
        "colab_type": "text"
      },
      "source": [
        "<a href=\"https://colab.research.google.com/github/nitanilla/metodosNumericos/blob/main/practica_Racices.ipynb\" target=\"_parent\"><img src=\"https://colab.research.google.com/assets/colab-badge.svg\" alt=\"Open In Colab\"/></a>"
      ]
    },
    {
      "cell_type": "code",
      "metadata": {
        "id": "nzB0AmPrvMuE",
        "outputId": "3b8a4966-a65a-4a92-e778-f6e5e78467fc",
        "colab": {
          "base_uri": "https://localhost:8080/",
          "height": 340
        }
      },
      "source": [
        "import matplotlib.pyplot as plt\n",
        "import numpy as np\n",
        "def funArray(t):\n",
        "  return [f(x) for x in t]\n",
        "def drawfunc(traiz,limites):\n",
        "  tx = [-11,4,17];ty0 = [0,0,0]         #rango para dibijar el eje x\n",
        "  ty = [-1111,24,4787];tx0 = [0,0,0]    #rango para dibijar el eje y\n",
        "  t2 = np.arange(-12.0, 15.0, 0.0001)   #rango para dibujar la funcion\n",
        "  plt.figure()\n",
        "  plt.plot(tx0,ty,'r',tx, ty0, 'r',traiz,funArray(traiz),'bo',t2, funArray(t2), 'k',limites,funArray(limites),'go')\n",
        "  plt.show()\n",
        "def f(x):                   #funcion a calcular la raiz\n",
        "  return x**3+4*(x**2)-10\n",
        "def biseccion(xl,xu):       #algoritmo\n",
        "  for i in range(939):\n",
        "    xr=(xl+xu)/2.0\n",
        "    if f(xr)*f(xl)>=0:xl=xr\n",
        "    else :xu=xr\n",
        "  return xr\n",
        "LimiteInferior,LimiteSuperior=1.0,2.0\n",
        "raiz=biseccion(LimiteInferior,LimiteSuperior)\n",
        "print(\"La raiz es: \",raiz,\"\\nA continuacion se muestra la grafica de la funcion, donde :\\npuntos verde:limites del intervalo\\npunto azul: raiz de la funcion\")\n",
        "drawfunc([raiz],[LimiteInferior,LimiteSuperior])"
      ],
      "execution_count": null,
      "outputs": [
        {
          "output_type": "stream",
          "text": [
            "La raiz es:  1.3652300134140987 \n",
            "A continuacion se muestra la grafica de la funcion, donde :\n",
            "puntos verde:limites del intervalo\n",
            "punto azul: raiz de la funcion\n"
          ],
          "name": "stdout"
        },
        {
          "output_type": "display_data",
          "data": {
            "image/png": "[encoded data removed]",
            "text/plain": [
              "<Figure size 432x288 with 1 Axes>"
            ]
          },
          "metadata": {
            "tags": [],
            "needs_background": "light"
          }
        }
      ]
    }
  ]
}