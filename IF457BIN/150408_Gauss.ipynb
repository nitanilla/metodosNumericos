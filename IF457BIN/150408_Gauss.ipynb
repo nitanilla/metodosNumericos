{
  "nbformat": 4,
  "nbformat_minor": 0,
  "metadata": {
    "colab": {
      "name": "Tarea_de_metodos_numericos.ipynb",
      "provenance": [],
      "collapsed_sections": [],
      "include_colab_link": true
    },
    "kernelspec": {
      "name": "python3",
      "display_name": "Python 3"
    }
  },
  "cells": [
    {
      "cell_type": "markdown",
      "metadata": {
        "id": "view-in-github",
        "colab_type": "text"
      },
      "source": [
        "<a href=\"https://colab.research.google.com/github/nitanilla/metodosNumericos/blob/main/Tarea_de_metodos_numericos.ipynb\" target=\"_parent\"><img src=\"https://colab.research.google.com/assets/colab-badge.svg\" alt=\"Open In Colab\"/></a>"
      ]
    },
    {
      "cell_type": "markdown",
      "metadata": {
        "id": "fnQYRB3R43LX"
      },
      "source": [
        "#actividad \n",
        "#20 Oct / Práctica del Método de Gauss, Gauss-Jordan, Gauss-Seidel"
      ]
    },
    {
      "cell_type": "code",
      "metadata": {
        "id": "dlAkmkmY4z-B",
        "outputId": "cb7037c6-3913-4d69-ec23-d9d7dbcb7514",
        "colab": {
          "base_uri": "https://localhost:8080/",
          "height": 34
        }
      },
      "source": [
        "print('encontrar ciertos ejemplos donde Gauss-Seidel no converge al resultado correcto')"
      ],
      "execution_count": null,
      "outputs": [
        {
          "output_type": "stream",
          "text": [
            "encontrar ciertos ejemplos donde Gauss-Seidel no converge al resultado correcto\n"
          ],
          "name": "stdout"
        }
      ]
    },
    {
      "cell_type": "code",
      "metadata": {
        "id": "GDtfbycM5YRf",
        "outputId": "035940cd-2aad-4074-b199-e9e49489db0b",
        "colab": {
          "base_uri": "https://localhost:8080/",
          "height": 544
        }
      },
      "source": [
        "# Definiendo nuestra función como seidel que toma 3 argumentos \n",
        "# como matriz A, solución y matriz B\n",
        "#https://www.geeksforgeeks.org/gauss-seidel-method/#:~:text=The%20Gauss%E2%80%93Seidel%20method%20is,linear%20equations%20with%20unknown%20x.&text=%2C%20to%20find%20the%20system%20of%20equation%20x%20which%20satisfy%20this%20condition.\n",
        "\n",
        "def seidel(a, x ,b): \n",
        "\t#hallar la longitud de a(3)\t \n",
        "\tn = len(a)\t\t\t\t \n",
        "\t# para el bucle calcular 3 veces en x, y , z \n",
        "\tfor j in range(0, n):\t\t \n",
        "\t\t# variable temporal d para almacenar b[j] \n",
        "\t\td = b[j]\t\t\t\t \n",
        "\t\t# calcular respectivo xi, yi, zi \n",
        "\t\tfor i in range(0, n):\t \n",
        "\t\t\tif(j != i): \n",
        "\t\t\t\td-=a[j][i] * x[i] \n",
        "\t\t# actualizar el valor de nuestra solucion \t\t \n",
        "\t\tx[j] = d / a[j][j] \n",
        "\t# returnar la nueva solucion\t \n",
        "\treturn x\t \n",
        "\n",
        "# int(input())input resolver el numero de variable\t\t\t \n",
        "n = 3\t\t\t\t\t\t\t\n",
        "a = []\t\t\t\t\t\t\t \n",
        "b = []\t\t \n",
        "# iniciar la solucion dependiendo n(here n=3)\t\t\t\t\t \n",
        "x = [0, 0, 0]\t\t\t\t\t\t \n",
        "a = [[4,1,3] ,[2,8,1] ,[3,-10,2]] \n",
        "b = [4,7,3] \n",
        "print(x) \n",
        "\n",
        "#el ciclo se ejecutara m veces dependiendo de m el valor de error \n",
        "for i in range(0, 30):\t\t\t \n",
        "\tx = seidel(a, x, b) \n",
        "\t#imprimir cada vez la solucion\n",
        "\tprint(x)\t\t\t\t\t \n"
      ],
      "execution_count": null,
      "outputs": [
        {
          "output_type": "stream",
          "text": [
            "[0, 0, 0]\n",
            "[1.0, 0.625, 3.125]\n",
            "[-1.5, 0.859375, 8.046875]\n",
            "[-5.25, 1.181640625, 15.283203125]\n",
            "[-10.7578125, 1.654052734375, 25.906982421875]\n",
            "[-18.84375, 2.347564697265625, 41.503448486328125]\n",
            "[-30.7144775390625, 3.3656883239746094, 64.4001579284668]\n",
            "[-48.14154052734375, 4.860365390777588, 98.01413774490356]\n",
            "[-73.72569465637207, 7.054656445980072, 147.36182421445847]\n",
            "[-111.28503227233887, 10.276030041277409, 219.80769861489534]\n",
            "[-166.42478147149086, 15.005233041010797, 326.1633374122903]\n",
            "[-247.3738113194704, 21.948035653331317, 482.3008952458622]\n",
            "[-366.2126803477295, 32.140558181199594, 711.5218114275922]\n",
            "[-540.676498115994, 47.103898100549486, 1048.0342376767385]\n",
            "[-796.8016527826912, 69.0711334860805, 1542.0581466044393]\n",
            "[-1172.8113933248496, 101.32058000565749, 2267.319990015562]\n",
            "[-1724.820137513086, 148.66503562632624, 3332.05538440126]\n",
            "[-2535.2077972075267, 218.17002625172415, 4895.161827069911]\n",
            "[-3724.9138768653643, 320.2082408326022, 7189.912019461057]\n",
            "[-5471.486074803943, 470.0075162683536, 10558.766693547681]\n",
            "[-8035.576899227849, 689.9233881135021, 15504.482289409283]\n",
            "[-11799.842564085338, 1012.7753548451742, 22765.14062035388]\n",
            "[-17326.049303976703, 1486.7447484499407, 33424.29769821476]\n",
            "[-25438.909460773553, 2182.5651529165434, 49072.68995574305]\n",
            "[-37349.15875503642, 3204.0784442912236, 72045.63035401075]\n",
            "[-54834.24237658087, 4703.731799893874, 105771.52256434067]\n",
            "[-80503.57487322898, 6905.328397764661, 155283.50429866678]\n",
            "[-118187.96032344125, 10137.427043526965, 227970.5757027967]\n",
            "[-173511.28853797927, 14882.375171645232, 334680.3086651951]\n",
            "[-254729.82529180762, 21848.29273980252, 491337.701636724]\n",
            "[-373964.34941249364, 32074.74964853291, 721321.772361405]\n"
          ],
          "name": "stdout"
        }
      ]
    },
    {
      "cell_type": "markdown",
      "metadata": {
        "id": "bGoXNE0pgoAj"
      },
      "source": [
        "Tacusi Larota Jhon Edwin -------150408"
      ]
    },
    {
      "cell_type": "markdown",
      "metadata": {
        "id": "1BaBAGbz638r"
      },
      "source": [
        "##**DESARROLLO DEL EJERCICIO PROPUESTO (TAREA)**\n",
        "\n",
        "El método se aplica a matrices cuadradas con elementos no nulos en sus diagonales y la convergencia se garantiza si la matriz es diagonalmente dominante.\n",
        "Sea una matriz diagonalmente no dominante:\n",
        "\n",
        "\n",
        "```\n",
        "Para determinar una matriz diagonalmente dominante, se evalua fila a fila, \n",
        "tomando en cuenta que el elemento que pertenece a la diagonal principal \n",
        "es mayor o igual a la suma de los demás elementos de la fila.\n",
        "\n",
        "Una matriz diagonalmente no dominante:\n",
        "      [4,1,3]    4>=1+3  (verdadero)\n",
        "      [2,8,1]    8>=1+2  (verdadero)\n",
        "      [3,-10,2]  2>=3-10 (falso)\n",
        "\n",
        "Nuestro input seria el siguiente:\n",
        "      x = [0, 0, 0]\t\t\t\t\t\t \n",
        "      a = [[4,1,3] ,[2,8,1] ,[3,-10,2]] \n",
        "      b = [4,7,3] \n",
        "```\n",
        "entonces utilizando esta matriz y ejecutando el codigo para calcular el sistema de ecuaciones con el método de Gauss-Seidel:\n",
        "```\n",
        "Se obtiene el siguiente resultado:\n",
        "[-54834.24237658087, 4703.731799893874, 105771.52256434067]\n",
        "```\n",
        "y con el metodo de Gauss Jordan:\n",
        "\n",
        "```\n",
        "Se obtiene el siguiente resultado:\n",
        "[[ 6.51724138],[ 0.17241379],[-7.4137931]]\n",
        "```\n",
        "En conclusion, los resultados del metodo de Gauss-Sendeil no se acercan al valor correcto.\n",
        "\n",
        "Al emplear un ejemplo con las condiciones que requiere el metodo de Gauss-Seidel (tener una matriz diagonalmente dominante), como se muestra a continuación:\n",
        "```\n",
        "x = [0, 0, 0]\t\t\t\t \n",
        "a = [[4, 1, 2],    4>=1+2  (verdadero)\n",
        "     [3, 5, 1],    5>=1+3  (verdadero)\n",
        "     [1, 1, 3]]    3>=1+1  (verdadero)\n",
        "b = [4,7,3] \n",
        "```\n",
        "y ejecutar el algoritmo de Gauss Jordan y el algoritmo de Gauss-Seidel\n",
        "se tiene la misma respuesta.\n",
        "```\n",
        "[0.5, 1.0, 0.5]\n",
        "```\n"
      ]
    }
  ]
}