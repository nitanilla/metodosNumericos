{
  "nbformat": 4,
  "nbformat_minor": 0,
  "metadata": {
    "colab": {
      "name": "2da parcial",
      "provenance": [],
      "authorship_tag": "ABX9TyOcF0qcCmerygKaJUzV4lLw",
      "include_colab_link": true
    },
    "kernelspec": {
      "name": "python3",
      "display_name": "Python 3"
    }
  },
  "cells": [
    {
      "cell_type": "markdown",
      "metadata": {
        "id": "view-in-github",
        "colab_type": "text"
      },
      "source": [
        "<a href=\"https://colab.research.google.com/github/nitanilla/metodosNumericos/blob/main/2da_parcial.ipynb\" target=\"_parent\"><img src=\"https://colab.research.google.com/assets/colab-badge.svg\" alt=\"Open In Colab\"/></a>"
      ]
    },
    {
      "cell_type": "code",
      "metadata": {
        "id": "Lv7nhfA_rKMr",
        "outputId": "cefd6ac5-5555-4e8b-d6c8-d0d47ecf0269",
        "colab": {
          "base_uri": "https://localhost:8080/"
        }
      },
      "source": [
        "#autor:Miguel Humberto Ychu Valencia\n",
        "import math;\n",
        "def eval(x):\n",
        "    return math.pow(-x,2)+(4*x)+5; #Evalua x en la funcion  f(x) = x^3 + 4x^2 - 10\n",
        "def raiz(xi,xu):\n",
        "  if (eval(xi)*eval(xu)) < 0: #Condicion inicial para que se ejecute el algoritmo\n",
        "    xr=(xi+xu)/2 #Valor medio entre los extremos\n",
        "    print(xr) #Imprime valores intermedios hasta la respuesta\n",
        "    if (eval(xi)*eval(xu)) < 0 : #Primera condicion del problema\n",
        "      xa=xr\n",
        "      xr=xu\n",
        "      xu=xa\n",
        "      raiz(xi,xu) #Recursividad para hallar la raiz\n",
        "    if eval(xi)*eval(xu) > 0: #Segunda condicion del problema\n",
        "      xa=xr\n",
        "      xr=xi\n",
        "      xi=xa\n",
        "      raiz(xi,xu)#Recursividad para hallar la raiz\n",
        "    if (eval(xi)*eval(xu) == 0.0) or (eval(xi)*eval(xu) == -0.0): #condicion final\n",
        "      return (xr)# Devuelve el ultimo valor\n",
        "print (raiz(4.5,5.6)); #Ejemplo practica"
      ],
      "execution_count": 7,
      "outputs": [
        {
          "output_type": "stream",
          "text": [
            "None\n"
          ],
          "name": "stdout"
        }
      ]
    },
    {
      "cell_type": "code",
      "metadata": {
        "id": "W_PgP3z6raJM",
        "outputId": "543ac87b-c16a-4378-cb92-d3a4f55e232b",
        "colab": {
          "base_uri": "https://localhost:8080/"
        }
      },
      "source": [
        "import scipy.optimize as optimize \n",
        "import numpy as np \n",
        "\n",
        "def func(x): \n",
        "    return -x**2 + 4*x +5 \n",
        "\n",
        "print(optimize.bisect(func, 4, 6)) \n",
        "# 6.77609231632"
      ],
      "execution_count": 9,
      "outputs": [
        {
          "output_type": "stream",
          "text": [
            "5.0\n"
          ],
          "name": "stdout"
        }
      ]
    },
    {
      "cell_type": "code",
      "metadata": {
        "id": "kyl8Oq1ls6XP",
        "outputId": "63637b8e-d5da-414b-c404-2a82b1bc361f",
        "colab": {
          "base_uri": "https://localhost:8080/"
        }
      },
      "source": [
        "# Algoritmo Posicion Falsa\n",
        "# Busca en intervalo [a,b]\n",
        "# Tolera = error\n",
        "#Extraido y modificado de: http://blog.espol.edu.ec/analisisnumerico/category/unidades-temas/unidad-2-raices-ecuaciones/\n",
        "import math\n",
        "import matplotlib.pyplot as plt\n",
        "import numpy as np\n",
        "# INGRESO\n",
        "fx = lambda x: -x**2 + 4*x + 5\n",
        "\n",
        "a = 3\n",
        "va=a\n",
        "b = 5\n",
        "vb=b\n",
        "tolera = 0.000001\n",
        " \n",
        "# PROCEDIMIENTO\n",
        "tabla = []\n",
        "tramo = abs(b-a)\n",
        "fa = fx(a)\n",
        "fb = fx(b)\n",
        "while not(tramo<=tolera):\n",
        "    c = b - fb*(a-b)/(fa-fb)\n",
        "    fc = fx(c)\n",
        "    tabla.append([a,c,b,fa,fc,fb,tramo])\n",
        "    cambio = np.sign(fa)*np.sign(fc)\n",
        "    if cambio>0:\n",
        "        tramo = abs(c-a)\n",
        "        a = c\n",
        "        fa = fc\n",
        "    else:\n",
        "        tramo = abs(b-c)\n",
        "        b = c\n",
        "        fb = fc\n",
        "        \n",
        "tabla = np.array(tabla)\n",
        "ntabla = len(tabla)\n",
        " \n",
        "# SALIDA\n",
        "#Mostrar iteraciones\n",
        "#np.set_printoptions(precision=4)\n",
        "#for i in range(0,ntabla,1):\n",
        "#    print('iteración:  ',i)\n",
        "#    print('[a,c,b]:    ', tabla[i,0:3])\n",
        "#    print('[fa,fc,fb]: ', tabla[i,3:6])\n",
        "#    print('[tramo]:    ', tabla[i,6])\n",
        "\n",
        "print('====RESULTADO===') \n",
        "print('Raiz:  ',c)\n",
        "print('Error: ',tramo)"
      ],
      "execution_count": 11,
      "outputs": [
        {
          "output_type": "stream",
          "text": [
            "====RESULTADO===\n",
            "Raiz:   5.0\n",
            "Error:  0.0\n"
          ],
          "name": "stdout"
        }
      ]
    },
    {
      "cell_type": "code",
      "metadata": {
        "id": "ar_L8orty1Fv",
        "outputId": "b9e8a09e-3cb1-47ce-d5b3-50b0ba091bd4",
        "colab": {
          "base_uri": "https://localhost:8080/"
        }
      },
      "source": [
        "#Extraido de:https://github.com/Blitzman/physics/blob/b7da3bd6958e0edda5c86aada62a07aab155f077/metodos_numericos/practicas/practica_10/garcia_garcia_alberto.py\n",
        "import numpy as np\n",
        "import typing\n",
        "def busqueda_incremental(f,a,b,n):\n",
        "        # f: funcion que determina la ecuación\n",
        "        # a: extremo inferior del intervalo\n",
        "        # b: extremo superior del intervalo\n",
        "        # n: número de subintervalos\n",
        "        extremos=np.linspace(a,b,n+1)\n",
        "        intervalos=np.zeros((n,2))\n",
        "        lista=[]\n",
        "        for i in range(n):\n",
        "            intervalos[i,0]=extremos[i]\n",
        "            intervalos[i,1]=extremos[i+1]\n",
        "            if f(extremos[i])*f(extremos[i+1])<=0:\n",
        "                lista.append(i)\n",
        "        return intervalos[lista,::]\n",
        "e5_f = lambda x: -x**2 + 4*x + 5\n",
        "e5_tol = 1e-4\n",
        "e5_iter = 50\n",
        "e5_int = busqueda_incremental(e5_f, 0, 6, 1000000)\n",
        "e5_p0 = e5_int[0][0]\n",
        "e5_p1 = e5_int[0][1]\n",
        "print(\"Aproximación por incrementos: \", e5_int)"
      ],
      "execution_count": 12,
      "outputs": [
        {
          "output_type": "stream",
          "text": [
            "Aproximación por incrementos:  [[4.999998 5.000004]]\n"
          ],
          "name": "stdout"
        }
      ]
    }
  ]
}