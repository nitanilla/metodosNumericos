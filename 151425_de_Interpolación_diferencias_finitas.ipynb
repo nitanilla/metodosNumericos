{
  "nbformat": 4,
  "nbformat_minor": 0,
  "metadata": {
    "colab": {
      "name": "151425 de Interpolación - diferencias finitas.ipynb",
      "provenance": [],
      "include_colab_link": true
    },
    "kernelspec": {
      "name": "python3",
      "display_name": "Python 3"
    }
  },
  "cells": [
    {
      "cell_type": "markdown",
      "metadata": {
        "id": "view-in-github",
        "colab_type": "text"
      },
      "source": [
        "<a href=\"https://colab.research.google.com/github/nitanilla/metodosNumericos/blob/main/151425_de_Interpolaci%C3%B3n_diferencias_finitas.ipynb\" target=\"_parent\"><img src=\"https://colab.research.google.com/assets/colab-badge.svg\" alt=\"Open In Colab\"/></a>"
      ]
    },
    {
      "cell_type": "code",
      "metadata": {
        "id": "EcWwi_ijJZby",
        "outputId": "031e4ff0-454d-4465-8acd-9b16aa64b1c4",
        "colab": {
          "base_uri": "https://localhost:8080/",
          "height": 596
        }
      },
      "source": [
        "# Interpolacion de Lagrange\n",
        "# http://blog.espol.edu.ec/analisisnumerico/interpolacion-de-lagrange/\n",
        "# divisoresL solo para mostrar valores\n",
        "import numpy as np\n",
        "import sympy as sym\n",
        "import matplotlib.pyplot as plt\n",
        "\n",
        "# INGRESO , Datos de prueba\n",
        "xi = np.array([0, 0.2, 0.3, 0.4])\n",
        "fi = np.array([1, 1.6, 1.7, 2.0])\n",
        "\n",
        "# PROCEDIMIENTO\n",
        "# Polinomio de Lagrange\n",
        "n = len(xi)\n",
        "x = sym.Symbol('x')\n",
        "polinomio = 0\n",
        "divisorL = np.zeros(n, dtype = float)\n",
        "for i in range(0,n):\n",
        "    # Termino de Lagrange\n",
        "    numerador = 1\n",
        "    denominador = 1\n",
        "    for j  in range(0,n):\n",
        "        if (j!=i):\n",
        "            numerador = numerador*(x-xi[j])\n",
        "            denominador = denominador*(xi[i]-xi[j])\n",
        "    terminoLi = numerador/denominador\n",
        "    polinomio = polinomio + terminoLi*fi[i]\n",
        "    print(polinomio.expand())\n",
        "    print(\"---\")\n",
        "    divisorL[i] = denominador\n",
        "# simplifica el polinomio\n",
        "polisimple = polinomio.expand()\n",
        "# para evaluación numérica\n",
        "px = sym.lambdify(x,polisimple)\n",
        "\n",
        "# Puntos para la gráfica\n",
        "muestras = 101\n",
        "a = np.min(xi)\n",
        "b = np.max(xi)\n",
        "pxi = np.linspace(a,b,muestras)\n",
        "pfi = px(pxi)\n",
        "\n",
        "# Salida\n",
        "print(' valores de fi: ',fi)\n",
        "print('divisores en L(i): ',divisorL)\n",
        "print()\n",
        "print('Polinomio de Lagrange, expresiones')\n",
        "print(polinomio)\n",
        "print()\n",
        "print('Polinomio de Lagrange: ')\n",
        "print(polisimple)\n",
        "\n",
        "# Gráfica\n",
        "plt.plot(xi,fi,'o', label = 'Puntos')\n",
        "plt.plot(pxi,pfi, label = 'Polinomio')\n",
        "plt.legend()\n",
        "plt.xlabel('xi')\n",
        "plt.ylabel('fi')\n",
        "plt.title('Interpolación Lagrange')\n",
        "plt.show()"
      ],
      "execution_count": null,
      "outputs": [
        {
          "output_type": "stream",
          "text": [
            "-41.6666666666667*x**3 + 37.5*x**2 - 10.8333333333333*x + 1.0\n",
            "---\n",
            "358.333333333334*x**3 - 242.5*x**2 + 37.1666666666667*x + 1.0\n",
            "---\n",
            "-208.333333333333*x**3 + 97.4999999999999*x**2 - 8.16666666666664*x + 1.0\n",
            "---\n",
            "41.6666666666666*x**3 - 27.5000000000001*x**2 + 6.83333333333336*x + 1.0\n",
            "---\n",
            " valores de fi:  [1.  1.6 1.7 2. ]\n",
            "divisores en L(i):  [-0.024  0.004 -0.003  0.008]\n",
            "\n",
            "Polinomio de Lagrange, expresiones\n",
            "400.0*x*(x - 0.4)*(x - 0.3) - 566.666666666667*x*(x - 0.4)*(x - 0.2) + 250.0*x*(x - 0.3)*(x - 0.2) - 41.6666666666667*(x - 0.4)*(x - 0.3)*(x - 0.2)\n",
            "\n",
            "Polinomio de Lagrange: \n",
            "41.6666666666666*x**3 - 27.5000000000001*x**2 + 6.83333333333336*x + 1.0\n"
          ],
          "name": "stdout"
        },
        {
          "output_type": "display_data",
          "data": {
            "image/png": "[encoded data removed]",
            "text/plain": [
              "<Figure size 432x288 with 1 Axes>"
            ]
          },
          "metadata": {
            "tags": [],
            "needs_background": "light"
          }
        }
      ]
    },
    {
      "cell_type": "code",
      "metadata": {
        "id": "I5LVl8vo5O4q",
        "outputId": "02bf08a1-8d3b-47fc-cbc8-6a37b178003e",
        "colab": {
          "base_uri": "https://localhost:8080/",
          "height": 526
        }
      },
      "source": [
        "# Polinomio interpolación\n",
        "# Diferencias finitas avanzadas\n",
        "# Tarea: Verificar tamaño de vectores,\n",
        "#        verificar puntos equidistantes en x\n",
        "import numpy as np\n",
        "import sympy as sym\n",
        "import matplotlib.pyplot as plt\n",
        "\n",
        "# INGRESO , Datos de prueba\n",
        "xi = np.array([0.10, 0.2, 0.3, 0.4])\n",
        "fi = np.array([1.45, 1.6, 1.7, 2.0])\n",
        "\n",
        "# PROCEDIMIENTO\n",
        "\n",
        "# Tabla de Diferencias Finitas\n",
        "titulo = ['i','xi','fi']\n",
        "n = len(xi)\n",
        "ki = np.arange(0,n,1)\n",
        "tabla = np.concatenate(([ki],[xi],[fi]),axis=0)\n",
        "tabla = np.transpose(tabla)\n",
        "# diferencias finitas vacia\n",
        "dfinita = np.zeros(shape=(n,n),dtype=float)\n",
        "tabla = np.concatenate((tabla,dfinita), axis=1)\n",
        "# Calcula tabla, inicia en columna 3\n",
        "[n,m] = np.shape(tabla)\n",
        "diagonal = n-1\n",
        "j = 3\n",
        "while (j < m):\n",
        "    # Añade título para cada columna\n",
        "    titulo.append('df'+str(j-2))\n",
        "    # cada fila de columna\n",
        "    i = 0\n",
        "    while (i < diagonal):\n",
        "        tabla[i,j] = tabla[i+1,j-1]-tabla[i,j-1]\n",
        "        i = i+1\n",
        "    diagonal = diagonal - 1\n",
        "    j = j+1\n",
        "\n",
        "# POLINOMIO con diferencias Finitas avanzadas\n",
        "# caso: puntos equidistantes en eje x\n",
        "h = xi[1] - xi[0]\n",
        "dfinita = tabla[0,3:]\n",
        "n = len(dfinita)\n",
        "# expresión del polinomio con Sympy\n",
        "x = sym.Symbol('x')\n",
        "polinomio = fi[0]\n",
        "for j in range(1,n,1):\n",
        "    denominador = np.math.factorial(j)*(h**j)\n",
        "    factor = dfinita[j-1]/denominador\n",
        "    termino = 1\n",
        "    for k in range(0,j,1):\n",
        "        termino = termino*(x-xi[k])\n",
        "    polinomio = polinomio + termino*factor\n",
        "# simplifica multiplicando entre (x-xi)\n",
        "polisimple = polinomio.expand()\n",
        "\n",
        "# polinomio para evaluacion numérica\n",
        "px = sym.lambdify(x,polisimple)\n",
        "\n",
        "# Puntos para la gráfica\n",
        "muestras = 101\n",
        "a = np.min(xi)\n",
        "b = np.max(xi)\n",
        "pxi = np.linspace(a,b,muestras)\n",
        "pfi = px(pxi)\n",
        "\n",
        "# SALIDA\n",
        "print('Tabla Diferencia Finita')\n",
        "print([titulo])\n",
        "print(tabla)\n",
        "print('dfinita: ')\n",
        "print(dfinita)\n",
        "print('polinomio: ')\n",
        "print(polinomio)\n",
        "print('polinomio simplificado: ' )\n",
        "print(polisimple)\n",
        "\n",
        "# Gráfica\n",
        "plt.plot(xi,fi,'o', label = 'Puntos')\n",
        "##for i in range(0,n,1):\n",
        "##    plt.axvline(xi[i],ls='--', color='yellow')\n",
        "plt.plot(pxi,pfi, label = 'Polinomio')\n",
        "plt.legend()\n",
        "plt.xlabel('xi')\n",
        "plt.ylabel('fi')\n",
        "plt.title('Interpolación polinómica')\n",
        "plt.show()"
      ],
      "execution_count": null,
      "outputs": [
        {
          "output_type": "stream",
          "text": [
            "Tabla Diferencia Finita\n",
            "[['i', 'xi', 'fi', 'df1', 'df2', 'df3', 'df4']]\n",
            "[[ 0.    0.1   1.45  0.15 -0.05  0.25  0.  ]\n",
            " [ 1.    0.2   1.6   0.1   0.2   0.    0.  ]\n",
            " [ 2.    0.3   1.7   0.3   0.    0.    0.  ]\n",
            " [ 3.    0.4   2.    0.    0.    0.    0.  ]]\n",
            "dfinita: \n",
            "[ 0.15 -0.05  0.25  0.  ]\n",
            "polinomio: \n",
            "1.5*x + 41.6666666666667*(x - 0.3)*(x - 0.2)*(x - 0.1) - 2.50000000000001*(x - 0.2)*(x - 0.1) + 1.3\n",
            "polinomio simplificado: \n",
            "41.6666666666667*x**3 - 27.5000000000001*x**2 + 6.83333333333335*x + 0.999999999999999\n"
          ],
          "name": "stdout"
        },
        {
          "output_type": "display_data",
          "data": {
            "image/png": "[encoded data removed]",
            "text/plain": [
              "<Figure size 432x288 with 1 Axes>"
            ]
          },
          "metadata": {
            "tags": [],
            "needs_background": "light"
          }
        }
      ]
    }
  ]
}