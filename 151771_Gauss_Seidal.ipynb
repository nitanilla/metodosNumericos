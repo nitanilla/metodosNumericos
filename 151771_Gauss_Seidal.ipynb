{
  "nbformat": 4,
  "nbformat_minor": 0,
  "metadata": {
    "colab": {
      "name": "151771 - Gauss  Seidal",
      "provenance": [],
      "collapsed_sections": [],
      "include_colab_link": true
    },
    "kernelspec": {
      "name": "python3",
      "display_name": "Python 3"
    }
  },
  "cells": [
    {
      "cell_type": "markdown",
      "metadata": {
        "id": "view-in-github",
        "colab_type": "text"
      },
      "source": [
        "<a href=\"https://colab.research.google.com/github/nitanilla/metodosNumericos/blob/main/151771_Gauss_Seidal.ipynb\" target=\"_parent\"><img src=\"https://colab.research.google.com/assets/colab-badge.svg\" alt=\"Open In Colab\"/></a>"
      ]
    },
    {
      "cell_type": "code",
      "metadata": {
        "id": "gjiXYlnyDAq8",
        "outputId": "f428b76f-29cf-4c96-b447-f4078e5f2684",
        "colab": {
          "base_uri": "https://localhost:8080/"
        }
      },
      "source": [
        "!pip install numpy"
      ],
      "execution_count": null,
      "outputs": [
        {
          "output_type": "stream",
          "text": [
            "Requirement already satisfied: numpy in /usr/local/lib/python3.6/dist-packages (1.18.5)\n"
          ],
          "name": "stdout"
        }
      ]
    },
    {
      "cell_type": "markdown",
      "metadata": {
        "id": "yCCtgRWdLuyA"
      },
      "source": [
        "# **Método de Gauss-Seidel**\n",
        "\n",
        "El método de Gauss-Seidel es particularmente adecuado cuando se tiene gran\n",
        "número de ecuaciones. En estos casos, los métodos de eliminación pueden estar sujetos\n",
        "a errores de redondeo. Debido a que el error en el método de Gauss-Seidel es determinado por el número de iteraciones, el error de redondeo no es un tema que preocupe a este\n",
        "método. Aunque, existen ciertos ejemplos donde la técnica de Gauss-Seidel no convergerá al resultado correcto."
      ]
    },
    {
      "cell_type": "markdown",
      "metadata": {
        "id": "7OkwjvXFXKH2"
      },
      "source": [
        "#**Implementar Gauss-Seidel**"
      ]
    },
    {
      "cell_type": "markdown",
      "metadata": {
        "id": "Xv6TedotXQZj"
      },
      "source": [
        "#1. Encontre otro código que halla de manera ordenanda las iteraciones y sus respuestas:\n",
        "\n",
        "*Glosario:*\n",
        "- Diagonal dominante : cuando la diagonal tiene mayor valor que los otros coeficientes\n",
        "\n",
        "**ACLARACIÓN:Con este algoritmo sabremos cuantas iteraciones se hizo, cuales fueron las respuestas en cada iteración y hallaremos la solución**"
      ]
    },
    {
      "cell_type": "markdown",
      "metadata": {
        "id": "PjBTt-VDXE7z"
      },
      "source": [
        "![IMAGEN MENTODOS 1.PNG](data:image/png;base64,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)"
      ]
    },
    {
      "cell_type": "code",
      "metadata": {
        "id": "dMwkYTDLv0O9",
        "outputId": "6a492dc1-1302-451c-8f46-2c34f1b4dc72",
        "colab": {
          "base_uri": "https://localhost:8080/"
        }
      },
      "source": [
        "# Definiendo la ecuación a resolver\n",
        "# Con diagonal dominante \n",
        "\n",
        "#Despejamos X en la primera ecuación\n",
        "f1 = lambda x,y,z: (7.85+0.1*y+0.2*z)/3\n",
        "#Despejamos Y en la segunda ecuación\n",
        "f2 = lambda x,y,z: (-19.3-0.1*x+0.3*z)/7\n",
        "#Despejamos Z en la tercera ecuación\n",
        "f3 = lambda x,y,z: (71.4-0.3*x+0.2*y)/10\n",
        "\n",
        "# Iniciamos la organización:\n",
        "x0 = 0\n",
        "y0 = 0\n",
        "z0 = 0\n",
        "count = 1\n",
        "\n",
        "# Error tolerable\n",
        "e = float(input('Enter tolerable error: '))\n",
        "\n",
        "# Implementación de la iteración de Gauss Seidel\n",
        "print('\\nCount\\tx\\ty\\tz\\n')\n",
        "#Condicionante\n",
        "condition = True\n",
        "\n",
        "while condition:\n",
        "    x1 = f1(x0,y0,z0)\n",
        "    y1 = f2(x1,y0,z0)\n",
        "    z1 = f3(x1,y1,z0)\n",
        "    print('%d\\t%0.4f\\t%0.4f\\t%0.4f\\n' %(count, x1,y1,z1))\n",
        "    e1 = abs(x0-x1);\n",
        "    e2 = abs(y0-y1);\n",
        "    e3 = abs(z0-z1);\n",
        "# Contador  \n",
        "    count += 1\n",
        "    x0 = x1\n",
        "    y0 = y1\n",
        "    z0 = z1\n",
        "    \n",
        "    condition = e1>e and e2>e and e3>e\n",
        "\n",
        "print('\\nSolution: x=%0.3f, y=%0.3f and z = %0.3f\\n'% (x1,y1,z1))\n",
        "\n",
        "#Y nos saldra cada iteración y su solución\n",
        "\n",
        "#Para que se ejecute, necesitamos poner una tolerancia\n",
        "# En este caso ponemos 0.0001 y ponemos play *(solo asi funcionara)*"
      ],
      "execution_count": null,
      "outputs": [
        {
          "output_type": "stream",
          "text": [
            "Enter tolerable error: 0.001\n",
            "\n",
            "Count\tx\ty\tz\n",
            "\n",
            "1\t2.6167\t-2.7945\t7.0056\n",
            "\n",
            "2\t2.9906\t-2.4996\t7.0003\n",
            "\n",
            "3\t3.0000\t-2.5000\t7.0000\n",
            "\n",
            "\n",
            "Solution: x=3.000, y=-2.500 and z = 7.000\n",
            "\n"
          ],
          "name": "stdout"
        }
      ]
    },
    {
      "cell_type": "markdown",
      "metadata": {
        "id": "l4_f1q8cZjqO"
      },
      "source": [
        "#2. Corroboraremos los valores y analizaremos con los que se encontraron en clase"
      ]
    },
    {
      "cell_type": "markdown",
      "metadata": {
        "id": "dV5GNiiWf5GP"
      },
      "source": [
        "- En este caso al imprimir nos dara todas las iteraciones que se calcularon anteriormente\n",
        "\n",
        " **ACLARACIÓN: Con este algoritmo hallaremos solo la solución aproximada con el MINIMO DE ERROR.**\n",
        "\n",
        "PD. Tambien al ejecutar observaremos que el número de iteracionesque le damos es 25, por lo tanto nos mostrara hasta la 25ava iteración.\n",
        "\n",
        "Al ver el valor repetido muchas veces , sabremos que esa es la solución.."
      ]
    },
    {
      "cell_type": "markdown",
      "metadata": {
        "id": "d2rmfh-CgcYN"
      },
      "source": [
        "![IMAGEN MENTODOS 1.PNG](data:image/png;base64,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)"
      ]
    },
    {
      "cell_type": "code",
      "metadata": {
        "id": "VrCApYqgehuO",
        "outputId": "500bc9d3-75e1-484f-b1d4-6fd2297c9914",
        "colab": {
          "base_uri": "https://localhost:8080/"
        }
      },
      "source": [
        "# Definiendo nuestra función como seidel que toma 3 argumentos\n",
        "# como matriz A, solución y matriz B\n",
        "\n",
        "#Definiendo nuestra matriz\n",
        "def seidel(a, x ,b): \n",
        "\n",
        "    #Encontrar la longitud de un(3)        \n",
        "    n = len(a)                    \n",
        "    # para el bucle por 3 veces para calcular x, y, z \n",
        "    for j in range(0, n):         \n",
        "        # variable temporal d para almacenar b [j] \n",
        "        d = b[j]                   \n",
        "          \n",
        "        # Para calcular respectivos xi, yi, zi\n",
        "        for i in range(0, n):  \n",
        "          # Donde j siempre va a ser diferente de i    \n",
        "            if(j != i): \n",
        "                d-=a[j][i] * x[i] \n",
        "        # actualizando el valor de nuestra solución       \n",
        "        x[j] = d / a[j][j] \n",
        "\n",
        "    # devolviendo nuestra solución actualizada         \n",
        "    return x     \n",
        "   \n",
        "# int (input ()) input como número de variable a resolver                 \n",
        "n = 3                              \n",
        "a = []                             \n",
        "b = []         \n",
        "\n",
        " #Primero asumimos la solución de la ecuación dada es:               \n",
        "x = [0, 0, 0]  \n",
        "# solución inicial dependiendo de n (aquí n = 3) \n",
        "#Aqui ponemos los coeficientes de cada ecuación                         \n",
        "a = [[3, -0.1, -0.2],[0.1, 7, -0.3],[0.3, -0.2, 10]] \n",
        "#Ponemos las constantes de cada ecuación\n",
        "b = [7.85,-19.3,71.4] \n",
        "print(x) \n",
        "  \n",
        "#el ciclo se ejecuta durante m veces dependiendo de m el valor de error:\n",
        "for i in range(0, 25):             \n",
        "    x = seidel(a, x, b) \n",
        "    #imprimir cada vez la solución actualizada aproximada con el minimo de error:\n",
        "    print(x)          "
      ],
      "execution_count": null,
      "outputs": [
        {
          "output_type": "stream",
          "text": [
            "[0, 0, 0]\n",
            "[2.6166666666666667, -2.7945238095238096, 7.005609523809525]\n",
            "[2.990556507936508, -2.499624684807256, 7.00029081106576]\n",
            "[3.0000318979108087, -2.499987992353051, 6.999999283215615]\n",
            "[3.000000352469273, -2.5000000357546064, 6.99999998871083]\n",
            "[2.9999999980555683, -2.500000000456044, 7.000000000049214]\n",
            "[2.9999999999880793, -2.4999999999977205, 7.000000000000403]\n",
            "[3.000000000000103, -2.4999999999999845, 6.999999999999997]\n",
            "[3.0, -2.5000000000000004, 7.0]\n",
            "[3.0, -2.5, 7.0]\n",
            "[3.0, -2.5, 7.0]\n",
            "[3.0, -2.5, 7.0]\n",
            "[3.0, -2.5, 7.0]\n",
            "[3.0, -2.5, 7.0]\n",
            "[3.0, -2.5, 7.0]\n",
            "[3.0, -2.5, 7.0]\n",
            "[3.0, -2.5, 7.0]\n",
            "[3.0, -2.5, 7.0]\n",
            "[3.0, -2.5, 7.0]\n",
            "[3.0, -2.5, 7.0]\n",
            "[3.0, -2.5, 7.0]\n",
            "[3.0, -2.5, 7.0]\n",
            "[3.0, -2.5, 7.0]\n",
            "[3.0, -2.5, 7.0]\n",
            "[3.0, -2.5, 7.0]\n",
            "[3.0, -2.5, 7.0]\n"
          ],
          "name": "stdout"
        }
      ]
    },
    {
      "cell_type": "markdown",
      "metadata": {
        "id": "aY0ju0STot0Q"
      },
      "source": [
        "#3. Corroboraremos los valores y analizaremos con los que se encontraron en clase con otro algoritmo"
      ]
    },
    {
      "cell_type": "markdown",
      "metadata": {
        "id": "wzj024eWo5F_"
      },
      "source": [
        "\n",
        "\n",
        "**ACLARACIÓN: Con este algoritmo hallaremos la solución y el número de iteraciones, a la cual al final se le está RESTANDO 1, porque al empezar supusimos que la primera iteración seria (0 ,0 ,0)**\n"
      ]
    },
    {
      "cell_type": "code",
      "metadata": {
        "id": "l73ADIHPLPZf",
        "outputId": "fcf69e93-6bfe-4724-8924-70b95d839d71",
        "colab": {
          "base_uri": "https://localhost:8080/"
        }
      },
      "source": [
        "# Método de Gauss-Seidel\n",
        "#Importamos\n",
        "import numpy as np\n",
        "\n",
        "# Ingresamos los coeficientes\n",
        "A = np.array([[3. , -0.1, -0.2],\n",
        "              [0.1,  7  , -0.3],\n",
        "              [0.3, -0.2, 10  ]])\n",
        "# Ingresamos las constantes\n",
        "B = np.array([7.85,-19.3,71.4])\n",
        "# Asumimos la solución de la ecuación dada es:  \n",
        "X0  = np.array([0.,0.,0.])\n",
        "\n",
        "# Le ponemos una tolerancia y la tolerancia máxima\n",
        "tolera = 0.00001\n",
        "iteramax = 100\n",
        "\n",
        "#Ponemos el número de filas y columnas\n",
        "tamano = np.shape(A)\n",
        "n = tamano[0]\n",
        "m = tamano[1]\n",
        "\n",
        "#  valores iniciales\n",
        "X = np.copy(X0)\n",
        "diferencia = np.ones(n, dtype=float)\n",
        "errado = 2*tolera\n",
        "\n",
        "#empezamos el bucle para las iteraciones:\n",
        "itera = 0\n",
        "while not(errado<=tolera or itera>iteramax):\n",
        "    # por fila\n",
        "    for i in range(0,n,1):\n",
        "        # por columna\n",
        "        suma = 0 \n",
        "        for j in range(0,m,1):\n",
        "            # excepto diagonal de A\n",
        "            if (i!=j): \n",
        "                suma = suma-A[i,j]*X[j]\n",
        "        \n",
        "        nuevo = (B[i]+suma)/A[i,i]\n",
        "        diferencia[i] = np.abs(nuevo-X[i])\n",
        "        X[i] = nuevo\n",
        "    errado = np.max(diferencia)\n",
        "    itera = itera + 1\n",
        "\n",
        "# Respuesta X en columna\n",
        "X = np.transpose([X])\n",
        "\n",
        "# revisa si NO converge\n",
        "if (itera>iteramax):\n",
        "    X=0\n",
        "# revisa respuesta\n",
        "verifica = np.dot(A,X)\n",
        "\n",
        "# Para terminar imprimimos\n",
        "\n",
        "#Ponemos la matriz inicial\n",
        "print('La matriz es:')\n",
        "print(A)\n",
        "#Ponemos las constantes de las ecuaciones\n",
        "print('Las constantes de las ecuaciones son:')\n",
        "print(B)\n",
        "\n",
        "\n",
        "\n",
        "# La solución es:\n",
        "print('LA SOLUCIÓN POR GAUSS SEIDEL ES: ')\n",
        "print(X)\n",
        "\n",
        "\n",
        "print('El numero de ITERACIONES es:',itera-1)\n",
        "\n"
      ],
      "execution_count": null,
      "outputs": [
        {
          "output_type": "stream",
          "text": [
            "La matriz es:\n",
            "[[ 3.  -0.1 -0.2]\n",
            " [ 0.1  7.  -0.3]\n",
            " [ 0.3 -0.2 10. ]]\n",
            "Las constantes de las ecuaciones son:\n",
            "[  7.85 -19.3   71.4 ]\n",
            "LA SOLUCIÓN POR GAUSS SEIDEL ES: \n",
            "[[ 3. ]\n",
            " [-2.5]\n",
            " [ 7. ]]\n",
            "El numero de ITERACIONES es: 4\n"
          ],
          "name": "stdout"
        }
      ]
    }
  ]
}