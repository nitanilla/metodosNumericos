{
  "nbformat": 4,
  "nbformat_minor": 0,
  "metadata": {
    "colab": {
      "name": "Practica-bisección(tan,propuestos)",
      "provenance": [],
      "collapsed_sections": []
    },
    "kernelspec": {
      "name": "python3",
      "display_name": "Python 3"
    }
  },
  "cells": [
    {
      "cell_type": "markdown",
      "metadata": {
        "id": "1H1go2XXGaHE"
      },
      "source": [
        "1) f(x)=TAN(X)\n",
        "INTERVALO [5,20]\n",
        "ERROR<1e-06"
      ]
    },
    {
      "cell_type": "code",
      "metadata": {
        "id": "8arq0guyGF0N",
        "outputId": "136bc8fc-ec88-4480-c7fb-8d6faca03e19",
        "colab": {
          "base_uri": "https://localhost:8080/",
          "height": 695
        }
      },
      "source": [
        "# f(x) = tan(x) , intervalo[5,20] , error% = 1e-06\n",
        "\n",
        "\n",
        "import matplotlib.pyplot as plt\n",
        "import numpy as np\n",
        "\n",
        "def f(x):\n",
        "  return np.tan(x);\n",
        "  x**3+2*x**2-x\n",
        "\n",
        "\n",
        "#Proceso de la iteración\n",
        "def biseccion(a,b,tol):\n",
        "  m1=a;\n",
        "  m=b;\n",
        "  k=0;\n",
        "  if (f(a)*f(b)>0):\n",
        "    print('la funcion no cambia de signo');\n",
        "\n",
        "  while (abs(m1-m)>tol):\n",
        "    m1=m;\n",
        "    m=(a+b)/2;\n",
        "    if (f(a)*f(m)<0):\n",
        "      b=m;\n",
        "    if (f(m)*f(b)<0):\n",
        "      a=m;\n",
        "    print('Iteracion' ,k+1, '---Intervalo [',a,',',b,']')\n",
        "    k=k+1;\n",
        "  print('***** N° de iteracion: ',k,'*****')\n",
        "\n",
        "  print('El valor de la Raiz es: ',m,'-----'' Para un error inferior a: ',tol,)\n",
        "\n",
        "biseccion(5,20,10**(-6))\n",
        "\n",
        "#Grafica\n",
        "x=np.linspace(14.2,17.2,1000)\n",
        "# Limitar los valores de los ejes.\n",
        "pyplot.xlim(14.2, 17.2)\n",
        "pyplot.ylim(-10, 10)\n",
        "pyplot.plot(x, [f(i) for i in x])\n",
        "# Establecer el color de los ejes.\n",
        "pyplot.axhline(0, color=\"black\")\n",
        "pyplot.axvline(0, color=\"black\")\n",
        "\n",
        "# Guardar gráfico como imágen PNG.\n",
        "pyplot.savefig(\"output.png\")\n",
        "# Mostrarlo.\n",
        "pyplot.show()\n"
      ],
      "execution_count": null,
      "outputs": [
        {
          "output_type": "stream",
          "text": [
            "Iteracion 1 ---Intervalo [ 12.5 , 20 ]\n",
            "Iteracion 2 ---Intervalo [ 12.5 , 16.25 ]\n",
            "Iteracion 3 ---Intervalo [ 14.375 , 16.25 ]\n",
            "Iteracion 4 ---Intervalo [ 15.3125 , 16.25 ]\n",
            "Iteracion 5 ---Intervalo [ 15.3125 , 15.78125 ]\n",
            "Iteracion 6 ---Intervalo [ 15.546875 , 15.78125 ]\n",
            "Iteracion 7 ---Intervalo [ 15.6640625 , 15.78125 ]\n",
            "Iteracion 8 ---Intervalo [ 15.6640625 , 15.72265625 ]\n",
            "Iteracion 9 ---Intervalo [ 15.693359375 , 15.72265625 ]\n",
            "Iteracion 10 ---Intervalo [ 15.693359375 , 15.7080078125 ]\n",
            "Iteracion 11 ---Intervalo [ 15.70068359375 , 15.7080078125 ]\n",
            "Iteracion 12 ---Intervalo [ 15.704345703125 , 15.7080078125 ]\n",
            "Iteracion 13 ---Intervalo [ 15.7061767578125 , 15.7080078125 ]\n",
            "Iteracion 14 ---Intervalo [ 15.70709228515625 , 15.7080078125 ]\n",
            "Iteracion 15 ---Intervalo [ 15.707550048828125 , 15.7080078125 ]\n",
            "Iteracion 16 ---Intervalo [ 15.707778930664062 , 15.7080078125 ]\n",
            "Iteracion 17 ---Intervalo [ 15.707893371582031 , 15.7080078125 ]\n",
            "Iteracion 18 ---Intervalo [ 15.707950592041016 , 15.7080078125 ]\n",
            "Iteracion 19 ---Intervalo [ 15.707950592041016 , 15.707979202270508 ]\n",
            "Iteracion 20 ---Intervalo [ 15.707950592041016 , 15.707964897155762 ]\n",
            "Iteracion 21 ---Intervalo [ 15.707957744598389 , 15.707964897155762 ]\n",
            "Iteracion 22 ---Intervalo [ 15.707961320877075 , 15.707964897155762 ]\n",
            "Iteracion 23 ---Intervalo [ 15.707963109016418 , 15.707964897155762 ]\n",
            "Iteracion 24 ---Intervalo [ 15.707963109016418 , 15.70796400308609 ]\n",
            "***** N° de iteracion:  24 *****\n",
            "El valor de la Raiz es:  15.70796400308609 ----- Para un error inferior a:  1e-06\n"
          ],
          "name": "stdout"
        },
        {
          "output_type": "error",
          "ename": "NameError",
          "evalue": "ignored",
          "traceback": [
            "\u001b[0;31m---------------------------------------------------------------------------\u001b[0m",
            "\u001b[0;31mNameError\u001b[0m                                 Traceback (most recent call last)",
            "\u001b[0;32m<ipython-input-10-5d09d3126d46>\u001b[0m in \u001b[0;36m<module>\u001b[0;34m()\u001b[0m\n\u001b[1;32m     36\u001b[0m \u001b[0mx\u001b[0m\u001b[0;34m=\u001b[0m\u001b[0mnp\u001b[0m\u001b[0;34m.\u001b[0m\u001b[0mlinspace\u001b[0m\u001b[0;34m(\u001b[0m\u001b[0;36m14.2\u001b[0m\u001b[0;34m,\u001b[0m\u001b[0;36m17.2\u001b[0m\u001b[0;34m,\u001b[0m\u001b[0;36m1000\u001b[0m\u001b[0;34m)\u001b[0m\u001b[0;34m\u001b[0m\u001b[0;34m\u001b[0m\u001b[0m\n\u001b[1;32m     37\u001b[0m \u001b[0;31m# Limitar los valores de los ejes.\u001b[0m\u001b[0;34m\u001b[0m\u001b[0;34m\u001b[0m\u001b[0;34m\u001b[0m\u001b[0m\n\u001b[0;32m---> 38\u001b[0;31m \u001b[0mpyplot\u001b[0m\u001b[0;34m.\u001b[0m\u001b[0mxlim\u001b[0m\u001b[0;34m(\u001b[0m\u001b[0;36m14.2\u001b[0m\u001b[0;34m,\u001b[0m \u001b[0;36m17.2\u001b[0m\u001b[0;34m)\u001b[0m\u001b[0;34m\u001b[0m\u001b[0;34m\u001b[0m\u001b[0m\n\u001b[0m\u001b[1;32m     39\u001b[0m \u001b[0mpyplot\u001b[0m\u001b[0;34m.\u001b[0m\u001b[0mylim\u001b[0m\u001b[0;34m(\u001b[0m\u001b[0;34m-\u001b[0m\u001b[0;36m10\u001b[0m\u001b[0;34m,\u001b[0m \u001b[0;36m10\u001b[0m\u001b[0;34m)\u001b[0m\u001b[0;34m\u001b[0m\u001b[0;34m\u001b[0m\u001b[0m\n\u001b[1;32m     40\u001b[0m \u001b[0mpyplot\u001b[0m\u001b[0;34m.\u001b[0m\u001b[0mplot\u001b[0m\u001b[0;34m(\u001b[0m\u001b[0mx\u001b[0m\u001b[0;34m,\u001b[0m \u001b[0;34m[\u001b[0m\u001b[0mf\u001b[0m\u001b[0;34m(\u001b[0m\u001b[0mi\u001b[0m\u001b[0;34m)\u001b[0m \u001b[0;32mfor\u001b[0m \u001b[0mi\u001b[0m \u001b[0;32min\u001b[0m \u001b[0mx\u001b[0m\u001b[0;34m]\u001b[0m\u001b[0;34m)\u001b[0m\u001b[0;34m\u001b[0m\u001b[0;34m\u001b[0m\u001b[0m\n",
            "\u001b[0;31mNameError\u001b[0m: name 'pyplot' is not defined"
          ]
        }
      ]
    },
    {
      "cell_type": "markdown",
      "metadata": {
        "id": "Ks__unPyG8Jl"
      },
      "source": [
        "3.b) f(X) = X**3 + 4*X**2 - 10\n",
        "INTERVALO [1,2]\n",
        "\n"
      ]
    },
    {
      "cell_type": "code",
      "metadata": {
        "id": "2cJaTYCCG4T7",
        "outputId": "ca6a6077-76d0-4da3-f2c1-fe61c77d6d59",
        "colab": {
          "base_uri": "https://localhost:8080/",
          "height": 625
        }
      },
      "source": [
        "# f(x) =X^3 + 4*X^2 - 10 , intervalo[1,2] , error% = 1e-06\n",
        "import matplotlib.pyplot as plt\n",
        "import numpy as np\n",
        "\n",
        "def f(x):\n",
        "  return (pow(x,3) + 4*pow(x,2) - 10);\n",
        "#Proceso de la iteración\n",
        "def biseccion(a,b,tol):\n",
        "  m1=a;\n",
        "  m=b;\n",
        "  k=0;\n",
        "  if (f(a)*f(b)>0):\n",
        "    print('la funcion no cambia de signo');\n",
        "\n",
        "  while (abs(m1-m)>tol):\n",
        "    m1=m;\n",
        "    m=(a+b)/2;\n",
        "    if (f(a)*f(m)<0):\n",
        "      b=m;\n",
        "    if (f(m)*f(b)<0):\n",
        "      a=m;\n",
        "    print('Iteracion' ,k+1, '---Intervalo [',a,',',b,']')\n",
        "    k=k+1;\n",
        "  print('***** N° de iteracion: ',k,'*****')\n",
        "\n",
        "  print('El valor de la Raiz es: ',m,'-----'' Para un error inferior a: ',tol,)\n",
        "\n",
        "biseccion(1,2,10**(-6))\n",
        "\n",
        "#Grafica\n",
        "x=np.linspace(0,3,1000)\n",
        "# Limitar los valores de los ejes.\n",
        "pyplot.xlim(0,3)\n",
        "pyplot.ylim(-10, 10)\n",
        "pyplot.plot(x, [f(i) for i in x])\n",
        "# Establecer el color de los ejes.\n",
        "pyplot.axhline(0, color=\"black\")\n",
        "pyplot.axvline(0, color=\"black\")\n",
        "\n",
        "# Guardar gráfico como imágen PNG.\n",
        "pyplot.savefig(\"output.png\")\n",
        "# Mostrarlo.\n",
        "pyplot.show()\n"
      ],
      "execution_count": null,
      "outputs": [
        {
          "output_type": "stream",
          "text": [
            "Iteracion 1 ---Intervalo [ 1 , 1.5 ]\n",
            "Iteracion 2 ---Intervalo [ 1.25 , 1.5 ]\n",
            "Iteracion 3 ---Intervalo [ 1.25 , 1.375 ]\n",
            "Iteracion 4 ---Intervalo [ 1.3125 , 1.375 ]\n",
            "Iteracion 5 ---Intervalo [ 1.34375 , 1.375 ]\n",
            "Iteracion 6 ---Intervalo [ 1.359375 , 1.375 ]\n",
            "Iteracion 7 ---Intervalo [ 1.359375 , 1.3671875 ]\n",
            "Iteracion 8 ---Intervalo [ 1.36328125 , 1.3671875 ]\n",
            "Iteracion 9 ---Intervalo [ 1.36328125 , 1.365234375 ]\n",
            "Iteracion 10 ---Intervalo [ 1.3642578125 , 1.365234375 ]\n",
            "Iteracion 11 ---Intervalo [ 1.36474609375 , 1.365234375 ]\n",
            "Iteracion 12 ---Intervalo [ 1.364990234375 , 1.365234375 ]\n",
            "Iteracion 13 ---Intervalo [ 1.3651123046875 , 1.365234375 ]\n",
            "Iteracion 14 ---Intervalo [ 1.36517333984375 , 1.365234375 ]\n",
            "Iteracion 15 ---Intervalo [ 1.365203857421875 , 1.365234375 ]\n",
            "Iteracion 16 ---Intervalo [ 1.3652191162109375 , 1.365234375 ]\n",
            "Iteracion 17 ---Intervalo [ 1.3652267456054688 , 1.365234375 ]\n",
            "Iteracion 18 ---Intervalo [ 1.3652267456054688 , 1.3652305603027344 ]\n",
            "Iteracion 19 ---Intervalo [ 1.3652286529541016 , 1.3652305603027344 ]\n",
            "Iteracion 20 ---Intervalo [ 1.365229606628418 , 1.3652305603027344 ]\n",
            "***** N° de iteracion:  20 *****\n",
            "El valor de la Raiz es:  1.365229606628418 ----- Para un error inferior a:  1e-06\n"
          ],
          "name": "stdout"
        },
        {
          "output_type": "error",
          "ename": "NameError",
          "evalue": "ignored",
          "traceback": [
            "\u001b[0;31m---------------------------------------------------------------------------\u001b[0m",
            "\u001b[0;31mNameError\u001b[0m                                 Traceback (most recent call last)",
            "\u001b[0;32m<ipython-input-3-9da33a02683e>\u001b[0m in \u001b[0;36m<module>\u001b[0;34m()\u001b[0m\n\u001b[1;32m     31\u001b[0m \u001b[0mx\u001b[0m\u001b[0;34m=\u001b[0m\u001b[0mnp\u001b[0m\u001b[0;34m.\u001b[0m\u001b[0mlinspace\u001b[0m\u001b[0;34m(\u001b[0m\u001b[0;36m0\u001b[0m\u001b[0;34m,\u001b[0m\u001b[0;36m3\u001b[0m\u001b[0;34m,\u001b[0m\u001b[0;36m1000\u001b[0m\u001b[0;34m)\u001b[0m\u001b[0;34m\u001b[0m\u001b[0;34m\u001b[0m\u001b[0m\n\u001b[1;32m     32\u001b[0m \u001b[0;31m# Limitar los valores de los ejes.\u001b[0m\u001b[0;34m\u001b[0m\u001b[0;34m\u001b[0m\u001b[0;34m\u001b[0m\u001b[0m\n\u001b[0;32m---> 33\u001b[0;31m \u001b[0mpyplot\u001b[0m\u001b[0;34m.\u001b[0m\u001b[0mxlim\u001b[0m\u001b[0;34m(\u001b[0m\u001b[0;36m0\u001b[0m\u001b[0;34m,\u001b[0m\u001b[0;36m3\u001b[0m\u001b[0;34m)\u001b[0m\u001b[0;34m\u001b[0m\u001b[0;34m\u001b[0m\u001b[0m\n\u001b[0m\u001b[1;32m     34\u001b[0m \u001b[0mpyplot\u001b[0m\u001b[0;34m.\u001b[0m\u001b[0mylim\u001b[0m\u001b[0;34m(\u001b[0m\u001b[0;34m-\u001b[0m\u001b[0;36m10\u001b[0m\u001b[0;34m,\u001b[0m \u001b[0;36m10\u001b[0m\u001b[0;34m)\u001b[0m\u001b[0;34m\u001b[0m\u001b[0;34m\u001b[0m\u001b[0m\n\u001b[1;32m     35\u001b[0m \u001b[0mpyplot\u001b[0m\u001b[0;34m.\u001b[0m\u001b[0mplot\u001b[0m\u001b[0;34m(\u001b[0m\u001b[0mx\u001b[0m\u001b[0;34m,\u001b[0m \u001b[0;34m[\u001b[0m\u001b[0mf\u001b[0m\u001b[0;34m(\u001b[0m\u001b[0mi\u001b[0m\u001b[0;34m)\u001b[0m \u001b[0;32mfor\u001b[0m \u001b[0mi\u001b[0m \u001b[0;32min\u001b[0m \u001b[0mx\u001b[0m\u001b[0;34m]\u001b[0m\u001b[0;34m)\u001b[0m\u001b[0;34m\u001b[0m\u001b[0;34m\u001b[0m\u001b[0m\n",
            "\u001b[0;31mNameError\u001b[0m: name 'pyplot' is not defined"
          ]
        }
      ]
    },
    {
      "cell_type": "markdown",
      "metadata": {
        "id": "pYiKVRPMJtPd"
      },
      "source": [
        "4) EJERCIO PROPUESTO: f(x) = x^3 + 2*x^2-x   Intervalo [1,2]\n",
        "\n",
        "\n",
        "\n"
      ]
    },
    {
      "cell_type": "markdown",
      "metadata": {
        "id": "Uj17RC79_VH1"
      },
      "source": [
        "PRIMERAMENTE: Graficar la función."
      ]
    },
    {
      "cell_type": "code",
      "metadata": {
        "id": "N0i37l5I_nYD",
        "outputId": "ee57c7e6-8c21-43af-ed78-58f9b7ec3f24",
        "colab": {
          "base_uri": "https://localhost:8080/",
          "height": 238
        }
      },
      "source": [
        "import matplotlib.pyplot as plt\n",
        "import numpy as np\n",
        "def f(x):\n",
        "  return pow(x,3)+2*pow(x,2)-x;\n",
        "#Grafica\n",
        "x=np.linspace(-4,2,1000)\n",
        "# Limitar los valores de los ejes.\n",
        "plt.plot.xlim(-4,2)\n",
        "pyplot.ylim(-4, 4)\n",
        "pyplot.plot(x, [f(i) for i in x])\n",
        "# Establecer el color de los ejes.\n",
        "pyplot.axhline(0, color=\"black\")\n",
        "pyplot.axvline(0, color=\"black\")\n",
        "\n",
        "# Guardar gráfico como imágen PNG.\n",
        "pyplot.savefig(\"output.png\")\n",
        "# Mostrarlo.\n",
        "pyplot.show()\n"
      ],
      "execution_count": null,
      "outputs": [
        {
          "output_type": "error",
          "ename": "AttributeError",
          "evalue": "ignored",
          "traceback": [
            "\u001b[0;31m---------------------------------------------------------------------------\u001b[0m",
            "\u001b[0;31mAttributeError\u001b[0m                            Traceback (most recent call last)",
            "\u001b[0;32m<ipython-input-8-5751b8807df5>\u001b[0m in \u001b[0;36m<module>\u001b[0;34m()\u001b[0m\n\u001b[1;32m      6\u001b[0m \u001b[0mx\u001b[0m\u001b[0;34m=\u001b[0m\u001b[0mnp\u001b[0m\u001b[0;34m.\u001b[0m\u001b[0mlinspace\u001b[0m\u001b[0;34m(\u001b[0m\u001b[0;34m-\u001b[0m\u001b[0;36m4\u001b[0m\u001b[0;34m,\u001b[0m\u001b[0;36m2\u001b[0m\u001b[0;34m,\u001b[0m\u001b[0;36m1000\u001b[0m\u001b[0;34m)\u001b[0m\u001b[0;34m\u001b[0m\u001b[0;34m\u001b[0m\u001b[0m\n\u001b[1;32m      7\u001b[0m \u001b[0;31m# Limitar los valores de los ejes.\u001b[0m\u001b[0;34m\u001b[0m\u001b[0;34m\u001b[0m\u001b[0;34m\u001b[0m\u001b[0m\n\u001b[0;32m----> 8\u001b[0;31m \u001b[0mplt\u001b[0m\u001b[0;34m.\u001b[0m\u001b[0mplot\u001b[0m\u001b[0;34m.\u001b[0m\u001b[0mxlim\u001b[0m\u001b[0;34m(\u001b[0m\u001b[0;34m-\u001b[0m\u001b[0;36m4\u001b[0m\u001b[0;34m,\u001b[0m\u001b[0;36m2\u001b[0m\u001b[0;34m)\u001b[0m\u001b[0;34m\u001b[0m\u001b[0;34m\u001b[0m\u001b[0m\n\u001b[0m\u001b[1;32m      9\u001b[0m \u001b[0mpyplot\u001b[0m\u001b[0;34m.\u001b[0m\u001b[0mylim\u001b[0m\u001b[0;34m(\u001b[0m\u001b[0;34m-\u001b[0m\u001b[0;36m4\u001b[0m\u001b[0;34m,\u001b[0m \u001b[0;36m4\u001b[0m\u001b[0;34m)\u001b[0m\u001b[0;34m\u001b[0m\u001b[0;34m\u001b[0m\u001b[0m\n\u001b[1;32m     10\u001b[0m \u001b[0mpyplot\u001b[0m\u001b[0;34m.\u001b[0m\u001b[0mplot\u001b[0m\u001b[0;34m(\u001b[0m\u001b[0mx\u001b[0m\u001b[0;34m,\u001b[0m \u001b[0;34m[\u001b[0m\u001b[0mf\u001b[0m\u001b[0;34m(\u001b[0m\u001b[0mi\u001b[0m\u001b[0;34m)\u001b[0m \u001b[0;32mfor\u001b[0m \u001b[0mi\u001b[0m \u001b[0;32min\u001b[0m \u001b[0mx\u001b[0m\u001b[0;34m]\u001b[0m\u001b[0;34m)\u001b[0m\u001b[0;34m\u001b[0m\u001b[0;34m\u001b[0m\u001b[0m\n",
            "\u001b[0;31mAttributeError\u001b[0m: 'function' object has no attribute 'xlim'"
          ]
        }
      ]
    },
    {
      "cell_type": "code",
      "metadata": {
        "id": "Ft10Ol4GGDE1"
      },
      "source": [
        ""
      ],
      "execution_count": null,
      "outputs": []
    },
    {
      "cell_type": "code",
      "metadata": {
        "id": "AgXcPW1FGDOi"
      },
      "source": [
        ""
      ],
      "execution_count": null,
      "outputs": []
    },
    {
      "cell_type": "markdown",
      "metadata": {
        "id": "ioVv6icpAOKD"
      },
      "source": [
        "Primera solucion en el rango [-3,-2]"
      ]
    },
    {
      "cell_type": "code",
      "metadata": {
        "id": "Jy7rDZyUKEAq",
        "outputId": "fee532a0-04e4-4bbc-c150-bb5b260ca22b",
        "colab": {
          "base_uri": "https://localhost:8080/",
          "height": 645
        }
      },
      "source": [
        "# f(x) = X^3 + 2*X^2 - X , intervalo[-3,-2] , error% = 1e-06\n",
        "import matplotlib.pyplot as plt\n",
        "import numpy as np\n",
        "def f(x):\n",
        "  return pow(x,3)+2*pow(x,2)-x;\n",
        "\n",
        "def biseccion(a,b,tol):\n",
        "  m1=a;\n",
        "  m=b;\n",
        "  k=0;\n",
        "  if (f(a)*f(b)>0):\n",
        "    print('la funcion no cambia de signo');\n",
        "\n",
        "  while (abs(m1-m)>tol):\n",
        "    m1=m;\n",
        "    m=(a+b)/2;\n",
        "    if (f(a)*f(m)<0):\n",
        "      b=m;\n",
        "    if (f(m)*f(b)<0):\n",
        "      a=m;\n",
        "    print('Iteracion' ,k+1, '---Intervalo [',a,',',b,']')\n",
        "    k=k+1;\n",
        "  print('***** N° de iteracion: ',k,'*****')\n",
        "\n",
        "  print('El valor de la Raiz es: ',m,'-----'' Para un error inferior a: ',tol,)\n",
        "\n",
        "biseccion(-3,-2,10**(-6))\n",
        "#Grafica\n",
        "x=np.linspace(-3,-2,1000)\n",
        "# Limitar los valores de los ejes.\n",
        "pyplot.xlim(-3,-2)\n",
        "pyplot.ylim(-1, 1)\n",
        "pyplot.plot(x, [f(i) for i in x])\n",
        "# Establecer el color de los ejes.\n",
        "pyplot.axhline(0, color=\"black\")\n",
        "pyplot.axvline(0, color=\"black\")\n",
        "\n",
        "# Guardar gráfico como imágen PNG.\n",
        "pyplot.savefig(\"output.png\")\n",
        "# Mostrarlo.\n",
        "pyplot.show()\n"
      ],
      "execution_count": null,
      "outputs": [
        {
          "output_type": "stream",
          "text": [
            "Iteracion 1 ---Intervalo [ -2.5 , -2 ]\n",
            "Iteracion 2 ---Intervalo [ -2.5 , -2.25 ]\n",
            "Iteracion 3 ---Intervalo [ -2.5 , -2.375 ]\n",
            "Iteracion 4 ---Intervalo [ -2.4375 , -2.375 ]\n",
            "Iteracion 5 ---Intervalo [ -2.4375 , -2.40625 ]\n",
            "Iteracion 6 ---Intervalo [ -2.421875 , -2.40625 ]\n",
            "Iteracion 7 ---Intervalo [ -2.421875 , -2.4140625 ]\n",
            "Iteracion 8 ---Intervalo [ -2.41796875 , -2.4140625 ]\n",
            "Iteracion 9 ---Intervalo [ -2.416015625 , -2.4140625 ]\n",
            "Iteracion 10 ---Intervalo [ -2.4150390625 , -2.4140625 ]\n",
            "Iteracion 11 ---Intervalo [ -2.41455078125 , -2.4140625 ]\n",
            "Iteracion 12 ---Intervalo [ -2.414306640625 , -2.4140625 ]\n",
            "Iteracion 13 ---Intervalo [ -2.414306640625 , -2.4141845703125 ]\n",
            "Iteracion 14 ---Intervalo [ -2.41424560546875 , -2.4141845703125 ]\n",
            "Iteracion 15 ---Intervalo [ -2.414215087890625 , -2.4141845703125 ]\n",
            "Iteracion 16 ---Intervalo [ -2.414215087890625 , -2.4141998291015625 ]\n",
            "Iteracion 17 ---Intervalo [ -2.414215087890625 , -2.4142074584960938 ]\n",
            "Iteracion 18 ---Intervalo [ -2.414215087890625 , -2.4142112731933594 ]\n",
            "Iteracion 19 ---Intervalo [ -2.414215087890625 , -2.414213180541992 ]\n",
            "Iteracion 20 ---Intervalo [ -2.4142141342163086 , -2.414213180541992 ]\n",
            "***** N° de iteracion:  20 *****\n",
            "El valor de la Raiz es:  -2.4142141342163086 ----- Para un error inferior a:  1e-06\n"
          ],
          "name": "stdout"
        },
        {
          "output_type": "error",
          "ename": "NameError",
          "evalue": "ignored",
          "traceback": [
            "\u001b[0;31m---------------------------------------------------------------------------\u001b[0m",
            "\u001b[0;31mNameError\u001b[0m                                 Traceback (most recent call last)",
            "\u001b[0;32m<ipython-input-9-f03cc7b4c80a>\u001b[0m in \u001b[0;36m<module>\u001b[0;34m()\u001b[0m\n\u001b[1;32m     29\u001b[0m \u001b[0mx\u001b[0m\u001b[0;34m=\u001b[0m\u001b[0mnp\u001b[0m\u001b[0;34m.\u001b[0m\u001b[0mlinspace\u001b[0m\u001b[0;34m(\u001b[0m\u001b[0;34m-\u001b[0m\u001b[0;36m3\u001b[0m\u001b[0;34m,\u001b[0m\u001b[0;34m-\u001b[0m\u001b[0;36m2\u001b[0m\u001b[0;34m,\u001b[0m\u001b[0;36m1000\u001b[0m\u001b[0;34m)\u001b[0m\u001b[0;34m\u001b[0m\u001b[0;34m\u001b[0m\u001b[0m\n\u001b[1;32m     30\u001b[0m \u001b[0;31m# Limitar los valores de los ejes.\u001b[0m\u001b[0;34m\u001b[0m\u001b[0;34m\u001b[0m\u001b[0;34m\u001b[0m\u001b[0m\n\u001b[0;32m---> 31\u001b[0;31m \u001b[0mpyplot\u001b[0m\u001b[0;34m.\u001b[0m\u001b[0mxlim\u001b[0m\u001b[0;34m(\u001b[0m\u001b[0;34m-\u001b[0m\u001b[0;36m3\u001b[0m\u001b[0;34m,\u001b[0m\u001b[0;34m-\u001b[0m\u001b[0;36m2\u001b[0m\u001b[0;34m)\u001b[0m\u001b[0;34m\u001b[0m\u001b[0;34m\u001b[0m\u001b[0m\n\u001b[0m\u001b[1;32m     32\u001b[0m \u001b[0mpyplot\u001b[0m\u001b[0;34m.\u001b[0m\u001b[0mylim\u001b[0m\u001b[0;34m(\u001b[0m\u001b[0;34m-\u001b[0m\u001b[0;36m1\u001b[0m\u001b[0;34m,\u001b[0m \u001b[0;36m1\u001b[0m\u001b[0;34m)\u001b[0m\u001b[0;34m\u001b[0m\u001b[0;34m\u001b[0m\u001b[0m\n\u001b[1;32m     33\u001b[0m \u001b[0mpyplot\u001b[0m\u001b[0;34m.\u001b[0m\u001b[0mplot\u001b[0m\u001b[0;34m(\u001b[0m\u001b[0mx\u001b[0m\u001b[0;34m,\u001b[0m \u001b[0;34m[\u001b[0m\u001b[0mf\u001b[0m\u001b[0;34m(\u001b[0m\u001b[0mi\u001b[0m\u001b[0;34m)\u001b[0m \u001b[0;32mfor\u001b[0m \u001b[0mi\u001b[0m \u001b[0;32min\u001b[0m \u001b[0mx\u001b[0m\u001b[0;34m]\u001b[0m\u001b[0;34m)\u001b[0m\u001b[0;34m\u001b[0m\u001b[0;34m\u001b[0m\u001b[0m\n",
            "\u001b[0;31mNameError\u001b[0m: name 'pyplot' is not defined"
          ]
        }
      ]
    },
    {
      "cell_type": "markdown",
      "metadata": {
        "id": "v4I9bzGNBWBu"
      },
      "source": [
        "Segunda solución en el rango [-1,0.2]"
      ]
    },
    {
      "cell_type": "code",
      "metadata": {
        "id": "h6QWmOCYBl9h",
        "outputId": "38d04ede-dc62-4e15-d9c3-58bc6c5fdff1",
        "colab": {
          "base_uri": "https://localhost:8080/",
          "height": 655
        }
      },
      "source": [
        "# f(x) = X^3 + 2*X^2 - X , intervalo[-1,0.2] , error% = 1e-06\n",
        "import matplotlib.pyplot as plt\n",
        "import numpy as np\n",
        "def f(x):\n",
        "  return pow(x,3)+2*pow(x,2)-x;\n",
        "\n",
        "def biseccion(a,b,tol):\n",
        "  m1=a;\n",
        "  m=b;\n",
        "  k=0;\n",
        "  if (f(a)*f(b)>0):\n",
        "    print('la funcion no cambia de signo');\n",
        "\n",
        "  while (abs(m1-m)>tol):\n",
        "    m1=m;\n",
        "    m=(a+b)/2;\n",
        "    if (f(a)*f(m)<0):\n",
        "      b=m;\n",
        "    if (f(m)*f(b)<0):\n",
        "      a=m;\n",
        "    print('Iteracion' ,k+1, '---Intervalo [',a,',',b,']')\n",
        "    k=k+1;\n",
        "  print('***** N° de iteracion: ',k,'*****')\n",
        "\n",
        "  print('El valor de la Raiz es: ',m,'-----'' Para un error inferior a: ',tol,)\n",
        "\n",
        "biseccion(-1,0.2,10**(-6))\n",
        "#Grafica\n",
        "x=np.linspace(-1,0.2,1000)\n",
        "# Limitar los valores de los ejes.\n",
        "pyplot.xlim(-1,0.2)\n",
        "pyplot.ylim(-1, 1)\n",
        "pyplot.plot(x, [f(i) for i in x])\n",
        "# Establecer el color de los ejes.\n",
        "pyplot.axhline(0, color=\"black\")\n",
        "pyplot.axvline(0, color=\"black\")\n",
        "\n",
        "# Guardar gráfico como imágen PNG.\n",
        "pyplot.savefig(\"output.png\")\n",
        "# Mostrarlo.\n",
        "pyplot.show()\n"
      ],
      "execution_count": null,
      "outputs": [
        {
          "output_type": "stream",
          "text": [
            "Iteracion 1 ---Intervalo [ -0.4 , 0.2 ]\n",
            "Iteracion 2 ---Intervalo [ -0.1 , 0.2 ]\n",
            "Iteracion 3 ---Intervalo [ -0.1 , 0.05 ]\n",
            "Iteracion 4 ---Intervalo [ -0.025 , 0.05 ]\n",
            "Iteracion 5 ---Intervalo [ -0.025 , 0.0125 ]\n",
            "Iteracion 6 ---Intervalo [ -0.00625 , 0.0125 ]\n",
            "Iteracion 7 ---Intervalo [ -0.00625 , 0.003125 ]\n",
            "Iteracion 8 ---Intervalo [ -0.0015625 , 0.003125 ]\n",
            "Iteracion 9 ---Intervalo [ -0.0015625 , 0.00078125 ]\n",
            "Iteracion 10 ---Intervalo [ -0.000390625 , 0.00078125 ]\n",
            "Iteracion 11 ---Intervalo [ -0.000390625 , 0.0001953125 ]\n",
            "Iteracion 12 ---Intervalo [ -9.765625e-05 , 0.0001953125 ]\n",
            "Iteracion 13 ---Intervalo [ -9.765625e-05 , 4.8828125e-05 ]\n",
            "Iteracion 14 ---Intervalo [ -2.44140625e-05 , 4.8828125e-05 ]\n",
            "Iteracion 15 ---Intervalo [ -2.44140625e-05 , 1.220703125e-05 ]\n",
            "Iteracion 16 ---Intervalo [ -6.103515625e-06 , 1.220703125e-05 ]\n",
            "Iteracion 17 ---Intervalo [ -6.103515625e-06 , 3.0517578125e-06 ]\n",
            "Iteracion 18 ---Intervalo [ -1.52587890625e-06 , 3.0517578125e-06 ]\n",
            "Iteracion 19 ---Intervalo [ -1.52587890625e-06 , 7.62939453125e-07 ]\n",
            "Iteracion 20 ---Intervalo [ -3.814697265625e-07 , 7.62939453125e-07 ]\n",
            "Iteracion 21 ---Intervalo [ -3.814697265625e-07 , 1.9073486328125e-07 ]\n",
            "***** N° de iteracion:  21 *****\n",
            "El valor de la Raiz es:  1.9073486328125e-07 ----- Para un error inferior a:  1e-06\n"
          ],
          "name": "stdout"
        },
        {
          "output_type": "display_data",
          "data": {
            "image/png": "[encoded data removed]",
            "text/plain": [
              "<Figure size 432x288 with 1 Axes>"
            ]
          },
          "metadata": {
            "tags": [],
            "needs_background": "light"
          }
        }
      ]
    },
    {
      "cell_type": "markdown",
      "metadata": {
        "id": "DcQ6aAU8JZCa"
      },
      "source": [
        "Tercera solución en el rango [0.2,5]"
      ]
    },
    {
      "cell_type": "code",
      "metadata": {
        "id": "_vBHAFV0JnEu",
        "outputId": "a938be24-5854-4f23-df21-6eb24d2f659c",
        "colab": {
          "base_uri": "https://localhost:8080/",
          "height": 689
        }
      },
      "source": [
        "# f(x) = X^3 + 2*X^2 - X , intervalo[0.2,5] , error% = 1e-06\n",
        "import matplotlib.pyplot as plt\n",
        "import numpy as np\n",
        "def f(x):\n",
        "  return pow(x,3)+2*pow(x,2)-x;\n",
        "\n",
        "def biseccion(a,b,tol):\n",
        "  m1=a;\n",
        "  m=b;\n",
        "  k=0;\n",
        "  if (f(a)*f(b)>0):\n",
        "    print('la funcion no cambia de signo');\n",
        "\n",
        "  while (abs(m1-m)>tol):\n",
        "    m1=m;\n",
        "    m=(a+b)/2;\n",
        "    if (f(a)*f(m)<0):\n",
        "      b=m;\n",
        "    if (f(m)*f(b)<0):\n",
        "      a=m;\n",
        "    print('Iteracion' ,k+1, '---Intervalo [',a,',',b,']')\n",
        "    k=k+1;\n",
        "  print('***** N° de iteracion: ',k,'*****')\n",
        "\n",
        "  print('El valor de la Raiz es: ',m,'-----'' Para un error inferior a: ',tol,)\n",
        "\n",
        "biseccion(0.2,5,10**(-6))\n",
        "#Grafica\n",
        "x=np.linspace(0.2,5,1000)\n",
        "# Limitar los valores de los ejes.\n",
        "pyplot.xlim(0.2,5)\n",
        "pyplot.ylim(-1, 1)\n",
        "pyplot.plot(x, [f(i) for i in x])\n",
        "# Establecer el color de los ejes.\n",
        "pyplot.axhline(0, color=\"black\")\n",
        "pyplot.axvline(0, color=\"black\")\n",
        "\n",
        "# Guardar gráfico como imágen PNG.\n",
        "pyplot.savefig(\"output.png\")\n",
        "# Mostrarlo.\n",
        "pyplot.show()\n"
      ],
      "execution_count": null,
      "outputs": [
        {
          "output_type": "stream",
          "text": [
            "Iteracion 1 ---Intervalo [ 0.2 , 2.6 ]\n",
            "Iteracion 2 ---Intervalo [ 0.2 , 1.4000000000000001 ]\n",
            "Iteracion 3 ---Intervalo [ 0.2 , 0.8 ]\n",
            "Iteracion 4 ---Intervalo [ 0.2 , 0.5 ]\n",
            "Iteracion 5 ---Intervalo [ 0.35 , 0.5 ]\n",
            "Iteracion 6 ---Intervalo [ 0.35 , 0.425 ]\n",
            "Iteracion 7 ---Intervalo [ 0.38749999999999996 , 0.425 ]\n",
            "Iteracion 8 ---Intervalo [ 0.40625 , 0.425 ]\n",
            "Iteracion 9 ---Intervalo [ 0.40625 , 0.415625 ]\n",
            "Iteracion 10 ---Intervalo [ 0.4109375 , 0.415625 ]\n",
            "Iteracion 11 ---Intervalo [ 0.41328125000000004 , 0.415625 ]\n",
            "Iteracion 12 ---Intervalo [ 0.41328125000000004 , 0.41445312500000003 ]\n",
            "Iteracion 13 ---Intervalo [ 0.41386718750000007 , 0.41445312500000003 ]\n",
            "Iteracion 14 ---Intervalo [ 0.41416015625 , 0.41445312500000003 ]\n",
            "Iteracion 15 ---Intervalo [ 0.41416015625 , 0.414306640625 ]\n",
            "Iteracion 16 ---Intervalo [ 0.41416015625 , 0.4142333984375 ]\n",
            "Iteracion 17 ---Intervalo [ 0.41419677734375004 , 0.4142333984375 ]\n",
            "Iteracion 18 ---Intervalo [ 0.41419677734375004 , 0.414215087890625 ]\n",
            "Iteracion 19 ---Intervalo [ 0.4142059326171875 , 0.414215087890625 ]\n",
            "Iteracion 20 ---Intervalo [ 0.41421051025390626 , 0.414215087890625 ]\n",
            "Iteracion 21 ---Intervalo [ 0.4142127990722656 , 0.414215087890625 ]\n",
            "Iteracion 22 ---Intervalo [ 0.4142127990722656 , 0.4142139434814453 ]\n",
            "Iteracion 23 ---Intervalo [ 0.4142133712768554 , 0.4142139434814453 ]\n",
            "***** N° de iteracion:  23 *****\n",
            "El valor de la Raiz es:  0.4142133712768554 ----- Para un error inferior a:  1e-06\n"
          ],
          "name": "stdout"
        },
        {
          "output_type": "display_data",
          "data": {
            "image/png": "[encoded data removed]",
            "text/plain": [
              "<Figure size 432x288 with 1 Axes>"
            ]
          },
          "metadata": {
            "tags": [],
            "needs_background": "light"
          }
        }
      ]
    }
  ]
}