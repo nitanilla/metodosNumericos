{
  "nbformat": 4,
  "nbformat_minor": 0,
  "metadata": {
    "colab": {
      "name": "Gauss-Seidel.ipynb",
      "provenance": [],
      "authorship_tag": "ABX9TyO9imX+RF2/AyumIl0vLdJk",
      "include_colab_link": true
    },
    "kernelspec": {
      "name": "python3",
      "display_name": "Python 3"
    }
  },
  "cells": [
    {
      "cell_type": "markdown",
      "metadata": {
        "id": "view-in-github",
        "colab_type": "text"
      },
      "source": [
        "<a href=\"https://colab.research.google.com/github/nitanilla/metodosNumericos/blob/main/Gauss_Seidel.ipynb\" target=\"_parent\"><img src=\"https://colab.research.google.com/assets/colab-badge.svg\" alt=\"Open In Colab\"/></a>"
      ]
    },
    {
      "cell_type": "code",
      "metadata": {
        "id": "37Odw6kFBRAS",
        "outputId": "9eb27a12-abb5-4155-bffb-20c01c6f84ce",
        "colab": {
          "base_uri": "https://localhost:8080/"
        }
      },
      "source": [
        "# Defining our function as seidel which takes 3 arguments \n",
        "# as A matrix, Solution and B matrix \n",
        "\n",
        "def seidel(a, x ,b): \n",
        "\t#Finding length of a(3)\t \n",
        "\tn = len(a)\t\t\t\t \n",
        "\t# for loop for 3 times as to calculate x, y , z \n",
        "\tfor j in range(0, n):\t\t \n",
        "\t\t# temp variable d to store b[j] \n",
        "\t\td = b[j]\t\t\t\t \n",
        "\t\t\n",
        "\t\t# to calculate respective xi, yi, zi \n",
        "\t\tfor i in range(0, n):\t \n",
        "\t\t\tif(j != i): \n",
        "\t\t\t\td-=a[j][i] * x[i] \n",
        "\t\t# updating the value of our solution\t\t \n",
        "\t\tx[j] = d / a[j][j] \n",
        "\t# returning our updated solution\t\t \n",
        "\treturn x\t \n",
        "\n",
        "# int(input())input as number of variable to be solved\t\t\t\t \n",
        "n = 3\t\t\t\t\t\t\t\n",
        "a = []\t\t\t\t\t\t\t \n",
        "b = []\t\t \n",
        "# initial solution depending on n(here n=3)\t\t\t\t\t \n",
        "x = [0, 0, 0]\t\t\t\t\t\t \n",
        "a = [[3, -0.1, -0.2],[0.1, 7, -0.3],[0.3, -0.2, 10]]\n",
        "#a = [[4, 1, 2],[3, 5, 1],[1, 1, 3]] \n",
        "#b = [4,7,3]\n",
        "b = [7.85,-19.3,71.4]  \n",
        "print(x) \n",
        "\n",
        "#loop run for m times depending on m the error value \n",
        "for i in range(0, 25):\t\t\t \n",
        "\tx = seidel(a, x, b) \n",
        "\t#print each time the updated solution \n",
        "\tprint(x)\t\t\t\t\t \n"
      ],
      "execution_count": 2,
      "outputs": [
        {
          "output_type": "stream",
          "text": [
            "[0, 0, 0]\n",
            "[2.6166666666666667, -2.7945238095238096, 7.005609523809525]\n",
            "[2.990556507936508, -2.499624684807256, 7.00029081106576]\n",
            "[3.0000318979108087, -2.499987992353051, 6.999999283215615]\n",
            "[3.000000352469273, -2.5000000357546064, 6.99999998871083]\n",
            "[2.9999999980555683, -2.500000000456044, 7.000000000049214]\n",
            "[2.9999999999880793, -2.4999999999977205, 7.000000000000403]\n",
            "[3.000000000000103, -2.4999999999999845, 6.999999999999997]\n",
            "[3.0, -2.5000000000000004, 7.0]\n",
            "[3.0, -2.5, 7.0]\n",
            "[3.0, -2.5, 7.0]\n",
            "[3.0, -2.5, 7.0]\n",
            "[3.0, -2.5, 7.0]\n",
            "[3.0, -2.5, 7.0]\n",
            "[3.0, -2.5, 7.0]\n",
            "[3.0, -2.5, 7.0]\n",
            "[3.0, -2.5, 7.0]\n",
            "[3.0, -2.5, 7.0]\n",
            "[3.0, -2.5, 7.0]\n",
            "[3.0, -2.5, 7.0]\n",
            "[3.0, -2.5, 7.0]\n",
            "[3.0, -2.5, 7.0]\n",
            "[3.0, -2.5, 7.0]\n",
            "[3.0, -2.5, 7.0]\n",
            "[3.0, -2.5, 7.0]\n",
            "[3.0, -2.5, 7.0]\n"
          ],
          "name": "stdout"
        }
      ]
    }
  ]
}